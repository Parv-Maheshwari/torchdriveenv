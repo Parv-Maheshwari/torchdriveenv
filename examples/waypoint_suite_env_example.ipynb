{
 "cells": [
  {
   "cell_type": "code",
   "execution_count": 1,
   "id": "f5d2e5db-0c27-427d-a0a3-f53c430663f5",
   "metadata": {},
   "outputs": [],
   "source": [
    "# Generate the video for the env with fake action"
   ]
  },
  {
   "cell_type": "code",
   "execution_count": 2,
   "id": "05c14bbc-f73b-469a-b225-405aa334df46",
   "metadata": {},
   "outputs": [],
   "source": [
    "# import sys\n",
    "# sys.path.insert(0, \"torchdrivesim\")"
   ]
  },
  {
   "cell_type": "code",
   "execution_count": null,
   "id": "fab87117",
   "metadata": {},
   "outputs": [],
   "source": []
  },
  {
   "cell_type": "code",
   "execution_count": 3,
   "id": "3fe3389a-95ec-4919-bcaa-dd88dedac48c",
   "metadata": {},
   "outputs": [],
   "source": [
    "import torch\n",
    "import gymnasium as gym"
   ]
  },
  {
   "cell_type": "code",
   "execution_count": 4,
   "id": "84878790-9182-4b06-8b7b-f84e3a1aae30",
   "metadata": {},
   "outputs": [
    {
     "name": "stderr",
     "output_type": "stream",
     "text": [
      "/home/kezhang/work/user_project/.venv/lib/python3.10/site-packages/tqdm/auto.py:21: TqdmWarning: IProgress not found. Please update jupyter and ipywidgets. See https://ipywidgets.readthedocs.io/en/stable/user_install.html\n",
      "  from .autonotebook import tqdm as notebook_tqdm\n",
      "Commercial access denied and fallback to check for academic access.\n"
     ]
    }
   ],
   "source": [
    "import torchdriveenv\n",
    "from torchdriveenv.env_utils import load_waypoint_suite_data, load_rl_training_config"
   ]
  },
  {
   "cell_type": "code",
   "execution_count": 5,
   "id": "a3e45727-1b5c-4239-88a9-d56d1eae3776",
   "metadata": {},
   "outputs": [],
   "source": [
    "data = load_waypoint_suite_data(\"data/validation_cases.yml\")\n",
    "env_config = load_rl_training_config(\"env_configs/rl_training.yml\").env"
   ]
  },
  {
   "cell_type": "code",
   "execution_count": 6,
   "id": "1063616d-7da2-4013-8c93-257e6bb5618d",
   "metadata": {},
   "outputs": [],
   "source": [
    "env_config.render_mode=\"video\""
   ]
  },
  {
   "cell_type": "code",
   "execution_count": 7,
   "id": "e95d5048-848c-416d-8a0b-35886c7f8bd9",
   "metadata": {},
   "outputs": [
    {
     "name": "stderr",
     "output_type": "stream",
     "text": [
      "INFO:torchdriveenv.gym_env:seed: 815623517\n",
      "INFO:torchdriveenv.gym_env:    def get_reward(self):\n",
      "        x = self.simulator.get_state()[..., 0]\n",
      "        y = self.simulator.get_state()[..., 1]\n",
      "        psi = self.simulator.get_state()[..., 2]\n",
      "\n",
      "        d = math.dist((x, y), (self.last_x, self.last_y)) if (self.last_x is not None) and (self.last_y is not None) else 0\n",
      "        distance_reward = 1 if d > 0.5 else 0\n",
      "        psi_reward = (1 - math.cos(psi - self.last_psi)) * (-0.05) if (self.last_psi is not None) else 0\n",
      "        if self.check_reach_target():\n",
      "            reach_target_reward = 10\n",
      "            self.reached_waypoint_num += 1\n",
      "        else:\n",
      "            reach_target_reward = 0\n",
      "        r = torch.zeros_like(x)\n",
      "        r += reach_target_reward + distance_reward + psi_reward\n",
      "        return r\n",
      "\n"
     ]
    }
   ],
   "source": [
    "env = gym.make('torchdriveenv-v0', args={'cfg': env_config, 'data': data})"
   ]
  },
  {
   "cell_type": "code",
   "execution_count": 8,
   "id": "f0316eb5-aeda-4779-bce7-cd0e92266f53",
   "metadata": {},
   "outputs": [],
   "source": [
    "def main(cfg, env):\n",
    "    env.reset()\n",
    "    i = 0\n",
    "    while True:\n",
    "        actions = torch.tensor([1, 0], dtype=torch.float32, device='cpu')  # accelerate hard without steering\n",
    "        obs, reward, terminated, truncated, info = env.step(actions)  \n",
    "        print(i)\n",
    "        print(info)\n",
    "        i += 1\n",
    "        if i >= 100:\n",
    "            break\n",
    "\n",
    "#         if terminated or truncated:\n",
    "#             break\n",
    "    env.close()"
   ]
  },
  {
   "cell_type": "code",
   "execution_count": 9,
   "id": "97a35881-da84-4691-b333-8a1db08ea19d",
   "metadata": {
    "scrolled": true
   },
   "outputs": [
    {
     "name": "stderr",
     "output_type": "stream",
     "text": [
      "/home/kezhang/work/user_project/.venv/lib/python3.10/site-packages/gymnasium/utils/passive_env_checker.py:135: UserWarning: \u001b[33mWARN: The obs returned by the `reset()` method was expecting numpy array dtype to be uint8, actual type: float32\u001b[0m\n",
      "  logger.warn(\n",
      "/home/kezhang/work/user_project/.venv/lib/python3.10/site-packages/gymnasium/utils/passive_env_checker.py:159: UserWarning: \u001b[33mWARN: The obs returned by the `reset()` method is not within the observation space.\u001b[0m\n",
      "  logger.warn(f\"{pre} is not within the observation space.\")\n",
      "/home/kezhang/work/user_project/.venv/lib/python3.10/site-packages/gymnasium/utils/passive_env_checker.py:228: UserWarning: \u001b[33mWARN: Expects `terminated` signal to be a boolean, actual type: <class 'torch.Tensor'>\u001b[0m\n",
      "  logger.warn(\n",
      "/home/kezhang/work/user_project/.venv/lib/python3.10/site-packages/gymnasium/utils/passive_env_checker.py:135: UserWarning: \u001b[33mWARN: The obs returned by the `step()` method was expecting numpy array dtype to be uint8, actual type: float32\u001b[0m\n",
      "  logger.warn(\n",
      "/home/kezhang/work/user_project/.venv/lib/python3.10/site-packages/gymnasium/utils/passive_env_checker.py:159: UserWarning: \u001b[33mWARN: The obs returned by the `step()` method is not within the observation space.\u001b[0m\n",
      "  logger.warn(f\"{pre} is not within the observation space.\")\n",
      "/home/kezhang/work/user_project/.venv/lib/python3.10/site-packages/gymnasium/utils/passive_env_checker.py:246: UserWarning: \u001b[33mWARN: The reward returned by `step()` must be a float, int, np.integer or np.floating, actual type: <class 'torch.Tensor'>\u001b[0m\n",
      "  logger.warn(\n"
     ]
    },
    {
     "name": "stdout",
     "output_type": "stream",
     "text": [
      "0\n",
      "{'offroad': tensor(0.), 'collision': tensor(0., dtype=torch.float64), 'traffic_light_violation': tensor(0.), 'is_success': False, 'reached_waypoint_num': 0, 'psi_smoothness': 0.0, 'speed_smoothness': 5.0}\n",
      "1\n",
      "{'offroad': tensor(0.), 'collision': tensor(0., dtype=torch.float64), 'traffic_light_violation': tensor(0.), 'is_success': False, 'reached_waypoint_num': 0, 'psi_smoothness': 0.0, 'speed_smoothness': 5.0}\n",
      "2\n",
      "{'offroad': tensor(0.), 'collision': tensor(0., dtype=torch.float64), 'traffic_light_violation': tensor(0.), 'is_success': False, 'reached_waypoint_num': 0, 'psi_smoothness': 0.0, 'speed_smoothness': 5.0}\n",
      "3\n",
      "{'offroad': tensor(0.), 'collision': tensor(0., dtype=torch.float64), 'traffic_light_violation': tensor(0.), 'is_success': False, 'reached_waypoint_num': 0, 'psi_smoothness': 0.0, 'speed_smoothness': 5.0}\n",
      "4\n",
      "{'offroad': tensor(0.), 'collision': tensor(0., dtype=torch.float64), 'traffic_light_violation': tensor(0.), 'is_success': False, 'reached_waypoint_num': 1, 'psi_smoothness': 0.0, 'speed_smoothness': 5.0}\n",
      "5\n",
      "{'offroad': tensor(0.), 'collision': tensor(0., dtype=torch.float64), 'traffic_light_violation': tensor(0.), 'is_success': False, 'reached_waypoint_num': 1, 'psi_smoothness': 0.0, 'speed_smoothness': 5.0}\n",
      "6\n",
      "{'offroad': tensor(0.), 'collision': tensor(0., dtype=torch.float64), 'traffic_light_violation': tensor(0.), 'is_success': False, 'reached_waypoint_num': 1, 'psi_smoothness': 0.0, 'speed_smoothness': 5.0}\n",
      "7\n",
      "{'offroad': tensor(0.), 'collision': tensor(0., dtype=torch.float64), 'traffic_light_violation': tensor(0.), 'is_success': False, 'reached_waypoint_num': 1, 'psi_smoothness': 0.0, 'speed_smoothness': 5.0}\n",
      "8\n",
      "{'offroad': tensor(0.), 'collision': tensor(0., dtype=torch.float64), 'traffic_light_violation': tensor(0.), 'is_success': False, 'reached_waypoint_num': 1, 'psi_smoothness': 0.0, 'speed_smoothness': 5.0}\n",
      "9\n",
      "{'offroad': tensor(0.), 'collision': tensor(0., dtype=torch.float64), 'traffic_light_violation': tensor(0.), 'is_success': False, 'reached_waypoint_num': 1, 'psi_smoothness': 0.0, 'speed_smoothness': 5.0}\n",
      "10\n",
      "{'offroad': tensor(0.), 'collision': tensor(0., dtype=torch.float64), 'traffic_light_violation': tensor(0.), 'is_success': False, 'reached_waypoint_num': 1, 'psi_smoothness': 0.0, 'speed_smoothness': 5.0}\n",
      "11\n",
      "{'offroad': tensor(0.), 'collision': tensor(0., dtype=torch.float64), 'traffic_light_violation': tensor(0.), 'is_success': False, 'reached_waypoint_num': 1, 'psi_smoothness': 0.0, 'speed_smoothness': 5.0}\n",
      "12\n",
      "{'offroad': tensor(0.), 'collision': tensor(0., dtype=torch.float64), 'traffic_light_violation': tensor(0.), 'is_success': False, 'reached_waypoint_num': 1, 'psi_smoothness': 0.0, 'speed_smoothness': 5.0}\n",
      "13\n",
      "{'offroad': tensor(0.), 'collision': tensor(0., dtype=torch.float64), 'traffic_light_violation': tensor(0.), 'is_success': False, 'reached_waypoint_num': 1, 'psi_smoothness': 0.0, 'speed_smoothness': 5.0}\n",
      "14\n",
      "{'offroad': tensor(0.), 'collision': tensor(0., dtype=torch.float64), 'traffic_light_violation': tensor(0.), 'is_success': False, 'reached_waypoint_num': 1, 'psi_smoothness': 0.0, 'speed_smoothness': 5.0}\n",
      "15\n",
      "{'offroad': tensor(0.), 'collision': tensor(0., dtype=torch.float64), 'traffic_light_violation': tensor(0.), 'is_success': False, 'reached_waypoint_num': 1, 'psi_smoothness': 0.0, 'speed_smoothness': 5.0}\n",
      "16\n",
      "{'offroad': tensor(0.), 'collision': tensor(0., dtype=torch.float64), 'traffic_light_violation': tensor(0.), 'is_success': False, 'reached_waypoint_num': 1, 'psi_smoothness': 0.0, 'speed_smoothness': 5.0}\n",
      "17\n",
      "{'offroad': tensor(0.), 'collision': tensor(0., dtype=torch.float64), 'traffic_light_violation': tensor(0.), 'is_success': False, 'reached_waypoint_num': 1, 'psi_smoothness': 0.0, 'speed_smoothness': 5.0}\n",
      "18\n",
      "{'offroad': tensor(0.), 'collision': tensor(0., dtype=torch.float64), 'traffic_light_violation': tensor(0.), 'is_success': False, 'reached_waypoint_num': 1, 'psi_smoothness': 0.0, 'speed_smoothness': 5.0}\n",
      "19\n",
      "{'offroad': tensor(0.), 'collision': tensor(0., dtype=torch.float64), 'traffic_light_violation': tensor(0.), 'is_success': False, 'reached_waypoint_num': 1, 'psi_smoothness': 0.0, 'speed_smoothness': 5.0}\n",
      "20\n",
      "{'offroad': tensor(0.), 'collision': tensor(0., dtype=torch.float64), 'traffic_light_violation': tensor(0.), 'is_success': False, 'reached_waypoint_num': 1, 'psi_smoothness': 0.0, 'speed_smoothness': 5.0}\n",
      "21\n",
      "{'offroad': tensor(0.), 'collision': tensor(0., dtype=torch.float64), 'traffic_light_violation': tensor(0.), 'is_success': False, 'reached_waypoint_num': 1, 'psi_smoothness': 0.0, 'speed_smoothness': 5.0}\n",
      "22\n",
      "{'offroad': tensor(0.), 'collision': tensor(0., dtype=torch.float64), 'traffic_light_violation': tensor(0.), 'is_success': False, 'reached_waypoint_num': 1, 'psi_smoothness': 0.0, 'speed_smoothness': 5.0}\n",
      "23\n",
      "{'offroad': tensor(0.), 'collision': tensor(0., dtype=torch.float64), 'traffic_light_violation': tensor(0.), 'is_success': False, 'reached_waypoint_num': 1, 'psi_smoothness': 0.0, 'speed_smoothness': 5.0}\n",
      "24\n",
      "{'offroad': tensor(0.), 'collision': tensor(0., dtype=torch.float64), 'traffic_light_violation': tensor(0.), 'is_success': False, 'reached_waypoint_num': 1, 'psi_smoothness': 0.0, 'speed_smoothness': 5.0}\n",
      "25\n",
      "{'offroad': tensor(0.), 'collision': tensor(0., dtype=torch.float64), 'traffic_light_violation': tensor(0.), 'is_success': False, 'reached_waypoint_num': 1, 'psi_smoothness': 0.0, 'speed_smoothness': 5.0}\n",
      "26\n",
      "{'offroad': tensor(0.), 'collision': tensor(0., dtype=torch.float64), 'traffic_light_violation': tensor(0.), 'is_success': False, 'reached_waypoint_num': 1, 'psi_smoothness': 0.0, 'speed_smoothness': 5.0}\n",
      "27\n",
      "{'offroad': tensor(0.), 'collision': tensor(0., dtype=torch.float64), 'traffic_light_violation': tensor(0.), 'is_success': False, 'reached_waypoint_num': 1, 'psi_smoothness': 0.0, 'speed_smoothness': 5.0}\n",
      "28\n",
      "{'offroad': tensor(0.), 'collision': tensor(0., dtype=torch.float64), 'traffic_light_violation': tensor(0.), 'is_success': False, 'reached_waypoint_num': 1, 'psi_smoothness': 0.0, 'speed_smoothness': 5.0}\n",
      "29\n",
      "{'offroad': tensor(0.), 'collision': tensor(0., dtype=torch.float64), 'traffic_light_violation': tensor(0.), 'is_success': False, 'reached_waypoint_num': 1, 'psi_smoothness': 0.0, 'speed_smoothness': 5.0}\n",
      "30\n",
      "{'offroad': tensor(0.), 'collision': tensor(0., dtype=torch.float64), 'traffic_light_violation': tensor(0.), 'is_success': False, 'reached_waypoint_num': 1, 'psi_smoothness': 0.0, 'speed_smoothness': 5.0}\n",
      "31\n",
      "{'offroad': tensor(0.), 'collision': tensor(0., dtype=torch.float64), 'traffic_light_violation': tensor(0.), 'is_success': False, 'reached_waypoint_num': 1, 'psi_smoothness': 0.0, 'speed_smoothness': 5.0}\n",
      "32\n",
      "{'offroad': tensor(0.), 'collision': tensor(0., dtype=torch.float64), 'traffic_light_violation': tensor(0.), 'is_success': False, 'reached_waypoint_num': 1, 'psi_smoothness': 0.0, 'speed_smoothness': 5.0}\n",
      "33\n",
      "{'offroad': tensor(0.), 'collision': tensor(0., dtype=torch.float64), 'traffic_light_violation': tensor(0.), 'is_success': False, 'reached_waypoint_num': 1, 'psi_smoothness': 0.0, 'speed_smoothness': 5.0}\n",
      "34\n",
      "{'offroad': tensor(0.), 'collision': tensor(0., dtype=torch.float64), 'traffic_light_violation': tensor(0.), 'is_success': False, 'reached_waypoint_num': 1, 'psi_smoothness': 0.0, 'speed_smoothness': 5.0}\n",
      "35\n",
      "{'offroad': tensor(0.), 'collision': tensor(0., dtype=torch.float64), 'traffic_light_violation': tensor(0.), 'is_success': False, 'reached_waypoint_num': 1, 'psi_smoothness': 0.0, 'speed_smoothness': 5.0}\n",
      "36\n",
      "{'offroad': tensor(0.), 'collision': tensor(0., dtype=torch.float64), 'traffic_light_violation': tensor(0.), 'is_success': False, 'reached_waypoint_num': 1, 'psi_smoothness': 0.0, 'speed_smoothness': 5.0}\n",
      "37\n",
      "{'offroad': tensor(0.), 'collision': tensor(0., dtype=torch.float64), 'traffic_light_violation': tensor(0.), 'is_success': False, 'reached_waypoint_num': 1, 'psi_smoothness': 0.0, 'speed_smoothness': 5.0}\n",
      "38\n",
      "{'offroad': tensor(0.), 'collision': tensor(0., dtype=torch.float64), 'traffic_light_violation': tensor(0.), 'is_success': False, 'reached_waypoint_num': 1, 'psi_smoothness': 0.0, 'speed_smoothness': 5.0}\n",
      "39\n",
      "{'offroad': tensor(0.), 'collision': tensor(0., dtype=torch.float64), 'traffic_light_violation': tensor(0.), 'is_success': False, 'reached_waypoint_num': 1, 'psi_smoothness': 0.0, 'speed_smoothness': 5.0}\n"
     ]
    },
    {
     "name": "stdout",
     "output_type": "stream",
     "text": [
      "40\n",
      "{'offroad': tensor(0.), 'collision': tensor(0., dtype=torch.float64), 'traffic_light_violation': tensor(0.), 'is_success': False, 'reached_waypoint_num': 1, 'psi_smoothness': 0.0, 'speed_smoothness': 5.0}\n",
      "41\n",
      "{'offroad': tensor(0.), 'collision': tensor(0., dtype=torch.float64), 'traffic_light_violation': tensor(0.), 'is_success': False, 'reached_waypoint_num': 1, 'psi_smoothness': 0.0, 'speed_smoothness': 5.0}\n",
      "42\n",
      "{'offroad': tensor(0.), 'collision': tensor(0., dtype=torch.float64), 'traffic_light_violation': tensor(0.), 'is_success': False, 'reached_waypoint_num': 1, 'psi_smoothness': 0.0, 'speed_smoothness': 5.0}\n",
      "43\n",
      "{'offroad': tensor(0.), 'collision': tensor(0., dtype=torch.float64), 'traffic_light_violation': tensor(0.), 'is_success': False, 'reached_waypoint_num': 1, 'psi_smoothness': 0.0, 'speed_smoothness': 5.0}\n",
      "44\n",
      "{'offroad': tensor(0.), 'collision': tensor(0., dtype=torch.float64), 'traffic_light_violation': tensor(0.), 'is_success': False, 'reached_waypoint_num': 1, 'psi_smoothness': 0.0, 'speed_smoothness': 5.0}\n",
      "45\n",
      "{'offroad': tensor(0.), 'collision': tensor(0., dtype=torch.float64), 'traffic_light_violation': tensor(0.), 'is_success': False, 'reached_waypoint_num': 1, 'psi_smoothness': 0.0, 'speed_smoothness': 5.0}\n",
      "46\n",
      "{'offroad': tensor(0.), 'collision': tensor(0., dtype=torch.float64), 'traffic_light_violation': tensor(0.), 'is_success': False, 'reached_waypoint_num': 1, 'psi_smoothness': 0.0, 'speed_smoothness': 5.0}\n",
      "47\n",
      "{'offroad': tensor(0.), 'collision': tensor(0., dtype=torch.float64), 'traffic_light_violation': tensor(0.), 'is_success': False, 'reached_waypoint_num': 1, 'psi_smoothness': 0.0, 'speed_smoothness': 5.0}\n",
      "48\n",
      "{'offroad': tensor(0.), 'collision': tensor(0., dtype=torch.float64), 'traffic_light_violation': tensor(0.), 'is_success': False, 'reached_waypoint_num': 1, 'psi_smoothness': 0.0, 'speed_smoothness': 5.0}\n",
      "49\n",
      "{'offroad': tensor(0.), 'collision': tensor(0., dtype=torch.float64), 'traffic_light_violation': tensor(0.), 'is_success': False, 'reached_waypoint_num': 1, 'psi_smoothness': 0.0, 'speed_smoothness': 5.0}\n",
      "50\n",
      "{'offroad': tensor(0.), 'collision': tensor(0., dtype=torch.float64), 'traffic_light_violation': tensor(0.), 'is_success': False, 'reached_waypoint_num': 1, 'psi_smoothness': 0.0, 'speed_smoothness': 5.0}\n",
      "51\n",
      "{'offroad': tensor(0.), 'collision': tensor(0., dtype=torch.float64), 'traffic_light_violation': tensor(0.), 'is_success': False, 'reached_waypoint_num': 1, 'psi_smoothness': 0.0, 'speed_smoothness': 5.0}\n",
      "52\n",
      "{'offroad': tensor(0.), 'collision': tensor(0., dtype=torch.float64), 'traffic_light_violation': tensor(0.), 'is_success': False, 'reached_waypoint_num': 1, 'psi_smoothness': 0.0, 'speed_smoothness': 5.0}\n",
      "53\n",
      "{'offroad': tensor(0.), 'collision': tensor(0., dtype=torch.float64), 'traffic_light_violation': tensor(0.), 'is_success': False, 'reached_waypoint_num': 1, 'psi_smoothness': 0.0, 'speed_smoothness': 5.0}\n",
      "54\n",
      "{'offroad': tensor(0.), 'collision': tensor(0., dtype=torch.float64), 'traffic_light_violation': tensor(0.), 'is_success': False, 'reached_waypoint_num': 1, 'psi_smoothness': 0.0, 'speed_smoothness': 5.0}\n",
      "55\n",
      "{'offroad': tensor(0.), 'collision': tensor(0., dtype=torch.float64), 'traffic_light_violation': tensor(0.), 'is_success': False, 'reached_waypoint_num': 1, 'psi_smoothness': 0.0, 'speed_smoothness': 5.0}\n",
      "56\n",
      "{'offroad': tensor(0.), 'collision': tensor(0., dtype=torch.float64), 'traffic_light_violation': tensor(0.), 'is_success': False, 'reached_waypoint_num': 1, 'psi_smoothness': 0.0, 'speed_smoothness': 5.0}\n",
      "57\n",
      "{'offroad': tensor(0.), 'collision': tensor(0., dtype=torch.float64), 'traffic_light_violation': tensor(0.), 'is_success': False, 'reached_waypoint_num': 1, 'psi_smoothness': 0.0, 'speed_smoothness': 5.0}\n",
      "58\n",
      "{'offroad': tensor(0.), 'collision': tensor(0., dtype=torch.float64), 'traffic_light_violation': tensor(0.), 'is_success': False, 'reached_waypoint_num': 1, 'psi_smoothness': 0.0, 'speed_smoothness': 5.0}\n",
      "59\n",
      "{'offroad': tensor(0.), 'collision': tensor(0., dtype=torch.float64), 'traffic_light_violation': tensor(0.), 'is_success': False, 'reached_waypoint_num': 1, 'psi_smoothness': 0.0, 'speed_smoothness': 5.0}\n",
      "60\n",
      "{'offroad': tensor(0.), 'collision': tensor(0., dtype=torch.float64), 'traffic_light_violation': tensor(0.), 'is_success': False, 'reached_waypoint_num': 1, 'psi_smoothness': 0.0, 'speed_smoothness': 5.0}\n",
      "61\n",
      "{'offroad': tensor(0.), 'collision': tensor(0., dtype=torch.float64), 'traffic_light_violation': tensor(0.), 'is_success': False, 'reached_waypoint_num': 1, 'psi_smoothness': 0.0, 'speed_smoothness': 5.0}\n",
      "62\n",
      "{'offroad': tensor(0.), 'collision': tensor(0., dtype=torch.float64), 'traffic_light_violation': tensor(0.), 'is_success': False, 'reached_waypoint_num': 1, 'psi_smoothness': 0.0, 'speed_smoothness': 5.0}\n",
      "63\n",
      "{'offroad': tensor(0.), 'collision': tensor(0., dtype=torch.float64), 'traffic_light_violation': tensor(0.), 'is_success': False, 'reached_waypoint_num': 1, 'psi_smoothness': 0.0, 'speed_smoothness': 5.0}\n",
      "64\n",
      "{'offroad': tensor(0.), 'collision': tensor(0., dtype=torch.float64), 'traffic_light_violation': tensor(0.), 'is_success': False, 'reached_waypoint_num': 1, 'psi_smoothness': 0.0, 'speed_smoothness': 5.0}\n",
      "65\n",
      "{'offroad': tensor(0.), 'collision': tensor(0., dtype=torch.float64), 'traffic_light_violation': tensor(0.), 'is_success': False, 'reached_waypoint_num': 1, 'psi_smoothness': 0.0, 'speed_smoothness': 5.0}\n",
      "66\n",
      "{'offroad': tensor(0.), 'collision': tensor(0., dtype=torch.float64), 'traffic_light_violation': tensor(0.), 'is_success': False, 'reached_waypoint_num': 1, 'psi_smoothness': 0.0, 'speed_smoothness': 5.0}\n",
      "67\n",
      "{'offroad': tensor(0.), 'collision': tensor(0., dtype=torch.float64), 'traffic_light_violation': tensor(0.), 'is_success': False, 'reached_waypoint_num': 1, 'psi_smoothness': 0.0, 'speed_smoothness': 5.0}\n",
      "68\n",
      "{'offroad': tensor(0.), 'collision': tensor(0., dtype=torch.float64), 'traffic_light_violation': tensor(0.), 'is_success': False, 'reached_waypoint_num': 1, 'psi_smoothness': 0.0, 'speed_smoothness': 5.0}\n",
      "69\n",
      "{'offroad': tensor(0.), 'collision': tensor(0., dtype=torch.float64), 'traffic_light_violation': tensor(0.), 'is_success': False, 'reached_waypoint_num': 1, 'psi_smoothness': 0.0, 'speed_smoothness': 5.0}\n",
      "70\n",
      "{'offroad': tensor(0.), 'collision': tensor(0., dtype=torch.float64), 'traffic_light_violation': tensor(0.), 'is_success': False, 'reached_waypoint_num': 1, 'psi_smoothness': 0.0, 'speed_smoothness': 5.0}\n",
      "71\n",
      "{'offroad': tensor(0.), 'collision': tensor(0., dtype=torch.float64), 'traffic_light_violation': tensor(0.), 'is_success': False, 'reached_waypoint_num': 1, 'psi_smoothness': 0.0, 'speed_smoothness': 5.0}\n",
      "72\n",
      "{'offroad': tensor(0.), 'collision': tensor(0., dtype=torch.float64), 'traffic_light_violation': tensor(0.), 'is_success': False, 'reached_waypoint_num': 1, 'psi_smoothness': 0.0, 'speed_smoothness': 5.0}\n",
      "73\n",
      "{'offroad': tensor(0.), 'collision': tensor(0., dtype=torch.float64), 'traffic_light_violation': tensor(0.), 'is_success': False, 'reached_waypoint_num': 1, 'psi_smoothness': 0.0, 'speed_smoothness': 5.0}\n",
      "74\n",
      "{'offroad': tensor(0.), 'collision': tensor(0., dtype=torch.float64), 'traffic_light_violation': tensor(0.), 'is_success': False, 'reached_waypoint_num': 1, 'psi_smoothness': 0.0, 'speed_smoothness': 5.0}\n",
      "75\n",
      "{'offroad': tensor(0.), 'collision': tensor(0., dtype=torch.float64), 'traffic_light_violation': tensor(0.), 'is_success': False, 'reached_waypoint_num': 1, 'psi_smoothness': 0.0, 'speed_smoothness': 5.0}\n",
      "76\n",
      "{'offroad': tensor(0.), 'collision': tensor(0., dtype=torch.float64), 'traffic_light_violation': tensor(0.), 'is_success': False, 'reached_waypoint_num': 1, 'psi_smoothness': 0.0, 'speed_smoothness': 5.0}\n",
      "77\n",
      "{'offroad': tensor(0.), 'collision': tensor(0., dtype=torch.float64), 'traffic_light_violation': tensor(0.), 'is_success': False, 'reached_waypoint_num': 1, 'psi_smoothness': 0.0, 'speed_smoothness': 5.0}\n",
      "78\n",
      "{'offroad': tensor(0.), 'collision': tensor(0., dtype=torch.float64), 'traffic_light_violation': tensor(0.), 'is_success': False, 'reached_waypoint_num': 1, 'psi_smoothness': 0.0, 'speed_smoothness': 5.0}\n",
      "79\n",
      "{'offroad': tensor(0.), 'collision': tensor(0., dtype=torch.float64), 'traffic_light_violation': tensor(0.), 'is_success': False, 'reached_waypoint_num': 1, 'psi_smoothness': 0.0, 'speed_smoothness': 5.0}\n"
     ]
    },
    {
     "name": "stdout",
     "output_type": "stream",
     "text": [
      "80\n",
      "{'offroad': tensor(0.), 'collision': tensor(0., dtype=torch.float64), 'traffic_light_violation': tensor(0.), 'is_success': False, 'reached_waypoint_num': 1, 'psi_smoothness': 0.0, 'speed_smoothness': 5.0}\n",
      "81\n",
      "{'offroad': tensor(0.), 'collision': tensor(0., dtype=torch.float64), 'traffic_light_violation': tensor(0.), 'is_success': False, 'reached_waypoint_num': 1, 'psi_smoothness': 0.0, 'speed_smoothness': 5.0}\n",
      "82\n",
      "{'offroad': tensor(0.), 'collision': tensor(0., dtype=torch.float64), 'traffic_light_violation': tensor(0.), 'is_success': False, 'reached_waypoint_num': 1, 'psi_smoothness': 0.0, 'speed_smoothness': 5.0}\n",
      "83\n",
      "{'offroad': tensor(0.), 'collision': tensor(0., dtype=torch.float64), 'traffic_light_violation': tensor(0.), 'is_success': False, 'reached_waypoint_num': 1, 'psi_smoothness': 0.0, 'speed_smoothness': 5.0}\n",
      "84\n",
      "{'offroad': tensor(0.), 'collision': tensor(0., dtype=torch.float64), 'traffic_light_violation': tensor(0.), 'is_success': False, 'reached_waypoint_num': 1, 'psi_smoothness': 0.0, 'speed_smoothness': 5.0}\n",
      "85\n",
      "{'offroad': tensor(0.), 'collision': tensor(0., dtype=torch.float64), 'traffic_light_violation': tensor(0.), 'is_success': False, 'reached_waypoint_num': 1, 'psi_smoothness': 0.0, 'speed_smoothness': 5.0}\n",
      "86\n",
      "{'offroad': tensor(0.), 'collision': tensor(0., dtype=torch.float64), 'traffic_light_violation': tensor(0.), 'is_success': False, 'reached_waypoint_num': 1, 'psi_smoothness': 0.0, 'speed_smoothness': 5.0}\n",
      "87\n",
      "{'offroad': tensor(0.), 'collision': tensor(0., dtype=torch.float64), 'traffic_light_violation': tensor(0.), 'is_success': False, 'reached_waypoint_num': 1, 'psi_smoothness': 0.0, 'speed_smoothness': 5.0}\n",
      "88\n",
      "{'offroad': tensor(0.), 'collision': tensor(0., dtype=torch.float64), 'traffic_light_violation': tensor(0.), 'is_success': False, 'reached_waypoint_num': 1, 'psi_smoothness': 0.0, 'speed_smoothness': 5.0}\n",
      "89\n",
      "{'offroad': tensor(0.), 'collision': tensor(0., dtype=torch.float64), 'traffic_light_violation': tensor(0.), 'is_success': False, 'reached_waypoint_num': 1, 'psi_smoothness': 0.0, 'speed_smoothness': 5.0}\n",
      "90\n",
      "{'offroad': tensor(0.), 'collision': tensor(0., dtype=torch.float64), 'traffic_light_violation': tensor(0.), 'is_success': False, 'reached_waypoint_num': 1, 'psi_smoothness': 0.0, 'speed_smoothness': 5.0}\n",
      "91\n",
      "{'offroad': tensor(0.), 'collision': tensor(0., dtype=torch.float64), 'traffic_light_violation': tensor(0.), 'is_success': False, 'reached_waypoint_num': 1, 'psi_smoothness': 0.0, 'speed_smoothness': 5.0}\n",
      "92\n",
      "{'offroad': tensor(0.), 'collision': tensor(0., dtype=torch.float64), 'traffic_light_violation': tensor(0.), 'is_success': False, 'reached_waypoint_num': 1, 'psi_smoothness': 0.0, 'speed_smoothness': 5.0}\n",
      "93\n",
      "{'offroad': tensor(0.), 'collision': tensor(0., dtype=torch.float64), 'traffic_light_violation': tensor(0.), 'is_success': False, 'reached_waypoint_num': 1, 'psi_smoothness': 0.0, 'speed_smoothness': 5.0}\n",
      "94\n",
      "{'offroad': tensor(0.), 'collision': tensor(0., dtype=torch.float64), 'traffic_light_violation': tensor(0.), 'is_success': False, 'reached_waypoint_num': 1, 'psi_smoothness': 0.0, 'speed_smoothness': 5.0}\n",
      "95\n",
      "{'offroad': tensor(0.), 'collision': tensor(0., dtype=torch.float64), 'traffic_light_violation': tensor(0.), 'is_success': False, 'reached_waypoint_num': 1, 'psi_smoothness': 0.0, 'speed_smoothness': 5.0}\n",
      "96\n",
      "{'offroad': tensor(0.), 'collision': tensor(0., dtype=torch.float64), 'traffic_light_violation': tensor(0.), 'is_success': False, 'reached_waypoint_num': 1, 'psi_smoothness': 0.0, 'speed_smoothness': 5.0}\n",
      "97\n",
      "{'offroad': tensor(0.), 'collision': tensor(0., dtype=torch.float64), 'traffic_light_violation': tensor(0.), 'is_success': False, 'reached_waypoint_num': 1, 'psi_smoothness': 0.0, 'speed_smoothness': 5.0}\n",
      "98\n",
      "{'offroad': tensor(0.), 'collision': tensor(0., dtype=torch.float64), 'traffic_light_violation': tensor(0.), 'is_success': False, 'reached_waypoint_num': 1, 'psi_smoothness': 0.0, 'speed_smoothness': 5.0}\n",
      "99\n",
      "{'offroad': tensor(0.), 'collision': tensor(0., dtype=torch.float64), 'traffic_light_violation': tensor(0.), 'is_success': False, 'reached_waypoint_num': 1, 'psi_smoothness': 0.0, 'speed_smoothness': 5.0}\n"
     ]
    }
   ],
   "source": [
    "main(env_config, env)"
   ]
  },
  {
   "cell_type": "markdown",
   "id": "7e7e0a97-9707-4ed1-9b1a-e18b2db2413c",
   "metadata": {},
   "source": [
    "### "
   ]
  }
 ],
 "metadata": {
  "kernelspec": {
   "display_name": "torchdriveenv",
   "language": "python",
   "name": "torchdriveenv"
  },
  "language_info": {
   "codemirror_mode": {
    "name": "ipython",
    "version": 3
   },
   "file_extension": ".py",
   "mimetype": "text/x-python",
   "name": "python",
   "nbconvert_exporter": "python",
   "pygments_lexer": "ipython3",
   "version": "3.10.12"
  }
 },
 "nbformat": 4,
 "nbformat_minor": 5
}
