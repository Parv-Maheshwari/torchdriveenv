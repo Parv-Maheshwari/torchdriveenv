{
 "cells": [
  {
   "cell_type": "code",
   "execution_count": 1,
   "id": "f5d2e5db-0c27-427d-a0a3-f53c430663f5",
   "metadata": {},
   "outputs": [],
   "source": [
    "# Generate the video for the env with fake action"
   ]
  },
  {
   "cell_type": "code",
   "execution_count": 3,
   "id": "3fe3389a-95ec-4919-bcaa-dd88dedac48c",
   "metadata": {},
   "outputs": [],
   "source": [
    "import os\n",
    "import torch\n",
    "import gymnasium as gym\n",
    "\n",
    "from omegaconf import OmegaConf"
   ]
  },
  {
   "cell_type": "code",
   "execution_count": 4,
   "id": "84878790-9182-4b06-8b7b-f84e3a1aae30",
   "metadata": {},
   "outputs": [
    {
     "name": "stderr",
     "output_type": "stream",
     "text": [
      "Commercial access denied and fallback to check for academic access.\n"
     ]
    }
   ],
   "source": [
    "import torchdriveenv\n",
    "from torchdriveenv.env_utils import construct_env_config, load_labeled_data, load_default_validation_data"
   ]
  },
  {
   "cell_type": "code",
   "execution_count": 5,
   "id": "a3e45727-1b5c-4239-88a9-d56d1eae3776",
   "metadata": {},
   "outputs": [],
   "source": [
    "data = load_default_validation_data()\n",
    "# data = load_labeled_data(\"labeled_scenarios\")\n",
    "\n",
    "config_path = \"env_configs/multi_agent/sac_training.yml\"\n",
    "config_from_yaml = OmegaConf.to_object(OmegaConf.load(config_path))\n",
    "env_config = construct_env_config(config_from_yaml[\"env\"])"
   ]
  },
  {
   "cell_type": "code",
   "execution_count": 6,
   "id": "1063616d-7da2-4013-8c93-257e6bb5618d",
   "metadata": {},
   "outputs": [],
   "source": [
    "env_config.render_mode=\"video\""
   ]
  },
  {
   "cell_type": "code",
   "execution_count": 7,
   "id": "e95d5048-848c-416d-8a0b-35886c7f8bd9",
   "metadata": {},
   "outputs": [
    {
     "name": "stderr",
     "output_type": "stream",
     "text": [
      "INFO:torchdriveenv.gym_env:seed: 1035614716\n"
     ]
    }
   ],
   "source": [
    "env = gym.make('torchdriveenv-v0', args={'cfg': env_config, 'data': data})"
   ]
  },
  {
   "cell_type": "code",
   "execution_count": 8,
   "id": "f0316eb5-aeda-4779-bce7-cd0e92266f53",
   "metadata": {},
   "outputs": [],
   "source": [
    "def main(cfg, env):\n",
    "    env.reset()\n",
    "    while True:\n",
    "        actions = torch.tensor([1, 0], dtype=torch.float32, device='cpu')  # accelerate hard without steering\n",
    "        obs, reward, terminated, truncated, info = env.step(actions)  \n",
    "        if terminated or truncated:\n",
    "            break\n",
    "    env.close()"
   ]
  },
  {
   "cell_type": "code",
   "execution_count": 9,
   "id": "97a35881-da84-4691-b333-8a1db08ea19d",
   "metadata": {
    "scrolled": true
   },
   "outputs": [
    {
     "name": "stderr",
     "output_type": "stream",
     "text": [
      "/home/kezhang/work/torchdriveenv/.venv/lib/python3.10/site-packages/gymnasium/core.py:311: UserWarning: \u001b[33mWARN: env.torch_device to get variables from other wrappers is deprecated and will be removed in v1.0, to get this variable you can do `env.unwrapped.torch_device` for environment variables or `env.get_wrapper_attr('torch_device')` that will search the reminding wrappers.\u001b[0m\n",
      "  logger.warn(\n"
     ]
    }
   ],
   "source": [
    "main(env_config, env)"
   ]
  },
  {
   "cell_type": "markdown",
   "id": "7e7e0a97-9707-4ed1-9b1a-e18b2db2413c",
   "metadata": {},
   "source": [
    "### "
   ]
  }
 ],
 "metadata": {
  "kernelspec": {
   "display_name": "torchdriveenv",
   "language": "python",
   "name": "torchdriveenv"
  },
  "language_info": {
   "codemirror_mode": {
    "name": "ipython",
    "version": 3
   },
   "file_extension": ".py",
   "mimetype": "text/x-python",
   "name": "python",
   "nbconvert_exporter": "python",
   "pygments_lexer": "ipython3",
   "version": "3.10.12"
  }
 },
 "nbformat": 4,
 "nbformat_minor": 5
}
