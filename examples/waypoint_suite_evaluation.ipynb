{
 "cells": [
  {
   "cell_type": "code",
   "execution_count": 1,
   "id": "7c1e7136-a80d-4e78-aa87-29e6cad4df58",
   "metadata": {},
   "outputs": [],
   "source": [
    "# Generate the video for the env with a trained model"
   ]
  },
  {
   "cell_type": "code",
   "execution_count": 2,
   "id": "89d4bff2-26be-4d2e-8f65-68c1e7669744",
   "metadata": {},
   "outputs": [
    {
     "name": "stderr",
     "output_type": "stream",
     "text": [
      "Commercial access denied and fallback to check for academic access.\n"
     ]
    }
   ],
   "source": [
    "import numpy as np\n",
    "import gymnasium as gym\n",
    "from stable_baselines3 import PPO, SAC, TD3\n",
    "from stable_baselines3.common.monitor import Monitor\n",
    "from stable_baselines3.common.vec_env import VecFrameStack, DummyVecEnv, SubprocVecEnv\n",
    "\n",
    "import torchdriveenv\n",
    "from torchdriveenv.env_utils import load_waypoint_suite_data, load_rl_training_config"
   ]
  },
  {
   "cell_type": "code",
   "execution_count": 3,
   "id": "2696bb6b-cc8f-419d-ace1-ddc8d08eabd4",
   "metadata": {},
   "outputs": [
    {
     "name": "stderr",
     "output_type": "stream",
     "text": [
      "/usr/local/lib/python3.8/dist-packages/stable_baselines3/common/buffers.py:241: UserWarning: This system does not have apparently enough memory to store the complete replay buffer 73.74GB > 44.94GB\n",
      "  warnings.warn(\n"
     ]
    }
   ],
   "source": [
    "model = SAC.load(\"models/BaselineAlgorithm.sac_1710579405/model\")"
   ]
  },
  {
   "cell_type": "code",
   "execution_count": 4,
   "id": "7cf63bd7-47d5-491e-a3bd-e5e7fec3ff6d",
   "metadata": {},
   "outputs": [],
   "source": [
    "data = load_waypoint_suite_data(\"data/validation_cases.yml\")\n",
    "env_config = load_rl_training_config(\"env_configs/rl_training.yml\").env\n",
    "env_config.render_mode=\"video\""
   ]
  },
  {
   "cell_type": "code",
   "execution_count": 5,
   "id": "5a857105-140c-4acb-9691-756754ea2867",
   "metadata": {},
   "outputs": [],
   "source": [
    "def make_env():\n",
    "    env = gym.make('torchdriveenv-v0', args={'cfg': env_config, 'data': data})\n",
    "    env = Monitor(env)  \n",
    "    return env"
   ]
  },
  {
   "cell_type": "code",
   "execution_count": 6,
   "id": "16d98d4d-66c6-4d5c-ae59-7fe59a22d52d",
   "metadata": {},
   "outputs": [],
   "source": [
    "def main(cfg, model):\n",
    "    env = DummyVecEnv([make_env])\n",
    "    env = VecFrameStack(env, n_stack=3, channels_order=\"first\")\n",
    "    obs = np.expand_dims(env.reset()[0], 0)\n",
    "    states = None\n",
    "    episode_starts = [True]\n",
    "\n",
    "    while True:\n",
    "        actions, states = model.predict(\n",
    "         obs,  \n",
    "         state=states,\n",
    "         episode_start=episode_starts,\n",
    "         deterministic=True,\n",
    "        )\n",
    "        obs, reward, done, info = env.step(actions)      \n",
    "        if done:\n",
    "            break\n",
    "    env.close()"
   ]
  },
  {
   "cell_type": "code",
   "execution_count": 7,
   "id": "3f05d639-d287-44ac-8535-0a6054d7bf03",
   "metadata": {},
   "outputs": [
    {
     "data": {
      "text/plain": [
       "EnvConfig(ego_only=False, use_mock_lights=True, max_environment_steps=200, use_background_traffic=True, terminated_at_infraction=True, seed=None, simulator=TorchDriveConfig(renderer=RendererConfig(backend='default', render_agent_direction=True, left_handed_coordinates=True, highlight_ego_vehicle=True), single_agent_rendering=False, collision_metric=<CollisionMetric.nograd: 'nograd'>, offroad_threshold=0.5, left_handed_coordinates=True), render_mode='video', video_filename='rendered_video.mp4', video_res=1024, video_fov=200)"
      ]
     },
     "execution_count": 7,
     "metadata": {},
     "output_type": "execute_result"
    }
   ],
   "source": [
    "env_config"
   ]
  },
  {
   "cell_type": "code",
   "execution_count": 8,
   "id": "7c213132-2db5-47be-956e-f677797e90ba",
   "metadata": {},
   "outputs": [
    {
     "name": "stderr",
     "output_type": "stream",
     "text": [
      "INFO:torchdriveenv.gym_env:seed: 94339140\n",
      "INFO:torchdriveenv.gym_env:    def get_reward(self):\n",
      "        x = self.simulator.get_state()[..., 0]\n",
      "        y = self.simulator.get_state()[..., 1]\n",
      "        psi = self.simulator.get_state()[..., 2]\n",
      "\n",
      "        d = math.dist((x, y), (self.last_x, self.last_y)) if (self.last_x is not None) and (self.last_y is not None) else 0\n",
      "        distance_reward = 1 if d > 0.5 else 0\n",
      "        psi_reward = (1 - math.cos(psi - self.last_psi)) * (-20.0) if (self.last_psi is not None) else 0\n",
      "        if self.check_reach_target():\n",
      "            reach_target_reward = 10\n",
      "            self.reached_waypoint_num += 1\n",
      "        else:\n",
      "            reach_target_reward = 0\n",
      "        r = torch.zeros_like(x)\n",
      "        r += reach_target_reward + distance_reward + psi_reward\n",
      "        return r\n",
      "\n",
      "/usr/local/lib/python3.8/dist-packages/gymnasium/utils/passive_env_checker.py:135: UserWarning: \u001b[33mWARN: The obs returned by the `reset()` method was expecting numpy array dtype to be uint8, actual type: float32\u001b[0m\n",
      "  logger.warn(\n",
      "/usr/local/lib/python3.8/dist-packages/gymnasium/utils/passive_env_checker.py:159: UserWarning: \u001b[33mWARN: The obs returned by the `reset()` method is not within the observation space.\u001b[0m\n",
      "  logger.warn(f\"{pre} is not within the observation space.\")\n",
      "/usr/local/lib/python3.8/dist-packages/gymnasium/utils/passive_env_checker.py:228: UserWarning: \u001b[33mWARN: Expects `terminated` signal to be a boolean, actual type: <class 'torch.Tensor'>\u001b[0m\n",
      "  logger.warn(\n",
      "/usr/local/lib/python3.8/dist-packages/gymnasium/utils/passive_env_checker.py:135: UserWarning: \u001b[33mWARN: The obs returned by the `step()` method was expecting numpy array dtype to be uint8, actual type: float32\u001b[0m\n",
      "  logger.warn(\n",
      "/usr/local/lib/python3.8/dist-packages/gymnasium/utils/passive_env_checker.py:159: UserWarning: \u001b[33mWARN: The obs returned by the `step()` method is not within the observation space.\u001b[0m\n",
      "  logger.warn(f\"{pre} is not within the observation space.\")\n",
      "/usr/local/lib/python3.8/dist-packages/gymnasium/utils/passive_env_checker.py:246: UserWarning: \u001b[33mWARN: The reward returned by `step()` must be a float, int, np.integer or np.floating, actual type: <class 'torch.Tensor'>\u001b[0m\n",
      "  logger.warn(\n"
     ]
    },
    {
     "name": "stdout",
     "output_type": "stream",
     "text": [
      "[[-0.9361826  0.2978707]]\n",
      "[0.518107]\n",
      "[[-0.8031012  -0.23261204]]\n",
      "[0.72297275]\n",
      "[[-0.90311414  0.00355896]]\n",
      "[0.99993885]\n",
      "[[-0.8710587   0.26287925]]\n",
      "[0.717716]\n",
      "[[ 0.57887185 -0.2554588 ]]\n",
      "[0.71258056]\n",
      "[[0.9218943  0.25320256]]\n",
      "[0.68464726]\n",
      "[[ 0.9126506  -0.10628325]]\n",
      "[0.9355184]\n",
      "[[ 0.91280055 -0.21907765]]\n",
      "[10.707406]\n",
      "[[0.25808787 0.25949073]]\n",
      "[0.5854657]\n",
      "[[ 0.26796222 -0.1321237 ]]\n",
      "[0.88458645]\n",
      "[[-0.9227927   0.04424387]]\n",
      "[0.9880859]\n",
      "[[0.93938994 0.19637099]]\n",
      "[0.7493201]\n",
      "[[ 0.9726107  -0.29192293]]\n",
      "[0.4146078]\n",
      "[[ 0.9453707  -0.22947367]]\n",
      "[0.5928436]\n",
      "[[ 0.9280665 -0.0873912]]\n",
      "[0.9331261]\n",
      "[[ 0.93786764 -0.13601865]]\n",
      "[0.82592005]\n",
      "[[0.94622254 0.00571206]]\n",
      "[0.9996621]\n",
      "[[ 0.9456763  -0.21824992]]\n",
      "[0.49035373]\n",
      "[[ 0.9078193  -0.29614994]]\n",
      "[0.0298631]\n",
      "[[ 0.87695193 -0.29972708]]\n",
      "[-0.05863291]\n",
      "[[-0.93622684 -0.26965562]]\n",
      "[0.18815841]\n",
      "[[-0.93814754  0.07524079]]\n",
      "[0.93750125]\n",
      "[[-0.95238864  0.29634172]]\n",
      "[10.166854]\n",
      "[[-0.51846343  0.2937168 ]]\n",
      "[0.21481869]\n",
      "[[-0.8817146  -0.27643192]]\n",
      "[0.34914774]\n",
      "[[-0.93540776  0.05011657]]\n",
      "[0.9789694]\n",
      "[[0.22019482 0.23225695]]\n",
      "[0.559929]\n",
      "[[ 0.93401945 -0.2888915 ]]\n",
      "[0.28014308]\n",
      "[[-0.90906024  0.20487273]]\n",
      "[0.6531179]\n",
      "[[-0.90627813 -0.13281892]]\n",
      "[0.8629172]\n",
      "[[-0.8641988  0.2718954]]\n",
      "[0.49691397]\n",
      "[[-0.9488486  -0.26502806]]\n",
      "[0.56385076]\n",
      "[[-0.86546654  0.08657667]]\n",
      "[0.95509404]\n",
      "[[ 0.9481243  -0.15317993]]\n",
      "[0.8468888]\n",
      "[[0.94234693 0.25822717]]\n",
      "[0.53989744]\n",
      "[[0.14735389 0.22088403]]\n",
      "[0.6530463]\n",
      "[[-0.97137254 -0.21169561]]\n",
      "[0.70952904]\n",
      "[[-0.95816404  0.06990284]]\n",
      "[0.97031564]\n",
      "[[-0.9288778   0.01256621]]\n",
      "[0.9991301]\n",
      "[[-0.32412922 -0.24706817]]\n",
      "[0.6925744]\n",
      "[[-0.96821874 -0.0065119 ]]\n",
      "[0.99979913]\n",
      "[[-0.9436825  -0.14170118]]\n",
      "[10.916907]\n",
      "[[0.885535   0.20837283]]\n",
      "[0.80327094]\n",
      "[[-0.04870552  0.27640057]]\n",
      "[0.66558576]\n",
      "[[-0.89193624 -0.12499474]]\n",
      "[0.93555665]\n",
      "[[ 0.9402313  -0.01619127]]\n",
      "[0.99876714]\n",
      "[[0.92764485 0.28445244]]\n",
      "[0.604022]\n",
      "[[ 0.93792224 -0.27962503]]\n",
      "[0.57398593]\n",
      "[[-0.96979403 -0.24094158]]\n",
      "[0.71124554]\n",
      "[[-0.9300774   0.29581797]]\n",
      "[0.61997736]\n",
      "[[-0.25014955  0.02918187]]\n",
      "[0.9961349]\n",
      "[[ 0.5111724 -0.2174748]]\n",
      "[0.7805086]\n",
      "[[0.9283614  0.08804005]]\n",
      "[0.9585101]\n",
      "[[0.8483591  0.28577858]]\n",
      "[0.54969317]\n",
      "[[-0.9416657   0.21040875]]\n",
      "[0.7728516]\n",
      "[[0.9048629  0.09210163]]\n",
      "[0.95033604]\n",
      "[[0.8768513  0.26086336]]\n",
      "[0.58498365]\n",
      "[[ 0.91030264 -0.01260504]]\n",
      "[0.9988719]\n",
      "[[0.49718857 0.25211585]]\n",
      "[0.55207866]\n",
      "[[0.21413767 0.29171866]]\n",
      "[0.39946774]\n",
      "[[-0.9082253  -0.21060675]]\n",
      "[0.70300674]\n",
      "[[-0.3927927  -0.26237002]]\n",
      "[0.5664348]\n",
      "[[-0.8508061   0.25711322]]\n",
      "[0.6179997]\n",
      "[[-0.8688272   0.00996491]]\n",
      "[0.99944717]\n",
      "[[-0.9156424  -0.01899409]]\n",
      "[0.9981925]\n",
      "[[ 0.9072887  -0.17832363]]\n",
      "[0.82793623]\n",
      "[[0.62044966 0.15900558]]\n",
      "[0.85270166]\n",
      "[[-0.89734316 -0.19801846]]\n",
      "[0.795673]\n",
      "[[ 0.86830735 -0.07898416]]\n",
      "[0.963161]\n",
      "[[-0.763802    0.29042053]]\n",
      "[0.57241917]\n",
      "[[0.74568367 0.07414642]]\n",
      "[0.96757835]\n",
      "[[ 0.9624318 -0.2876072]]\n",
      "[0.4953686]\n",
      "[[0.9224572  0.06746542]]\n",
      "[0.96736]\n",
      "[[ 0.9114485  -0.08876646]]\n",
      "[0.93849397]\n",
      "[[0.9320977  0.09352514]]\n",
      "[0.92565453]\n",
      "[[0.8921267  0.27357566]]\n",
      "[0.35139728]\n",
      "[[-0.75900006  0.2867549 ]]\n",
      "[0.3377289]\n",
      "[[-0.9380295  -0.24179336]]\n",
      "[0.5584799]\n",
      "[[-0.95615333  0.22451007]]\n",
      "[0.65007573]\n",
      "[[-0.9607594   0.08100882]]\n",
      "[0.9569968]\n",
      "[[-0.9492829  -0.09680128]]\n",
      "[0.94458246]\n",
      "[[-0.9753321  -0.01046935]]\n",
      "[0.99941367]\n"
     ]
    }
   ],
   "source": [
    "main(env_config, model)"
   ]
  },
  {
   "cell_type": "code",
   "execution_count": null,
   "id": "b22b1130-c823-473a-8458-9c076f1c5b03",
   "metadata": {},
   "outputs": [],
   "source": []
  }
 ],
 "metadata": {
  "kernelspec": {
   "display_name": "Python 3 (ipykernel)",
   "language": "python",
   "name": "python3"
  },
  "language_info": {
   "codemirror_mode": {
    "name": "ipython",
    "version": 3
   },
   "file_extension": ".py",
   "mimetype": "text/x-python",
   "name": "python",
   "nbconvert_exporter": "python",
   "pygments_lexer": "ipython3",
   "version": "3.8.10"
  }
 },
 "nbformat": 4,
 "nbformat_minor": 5
}
