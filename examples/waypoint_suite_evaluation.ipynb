{
 "cells": [
  {
   "cell_type": "code",
   "execution_count": 1,
   "id": "7c1e7136-a80d-4e78-aa87-29e6cad4df58",
   "metadata": {},
   "outputs": [],
   "source": [
    "# Generate the video for the env with a trained model"
   ]
  },
  {
   "cell_type": "code",
   "execution_count": 2,
   "id": "eb862efb",
   "metadata": {},
   "outputs": [],
   "source": [
    "import sys\n",
    "sys.path.insert(0, \"../\")\n",
    "sys.path.insert(0, \"../torchdrivesim/\")"
   ]
  },
  {
   "cell_type": "code",
   "execution_count": 3,
   "id": "89d4bff2-26be-4d2e-8f65-68c1e7669744",
   "metadata": {},
   "outputs": [
    {
     "name": "stderr",
     "output_type": "stream",
     "text": [
      "/home/kezhang/work/torchdriveenv/.venv/lib/python3.10/site-packages/tqdm/auto.py:21: TqdmWarning: IProgress not found. Please update jupyter and ipywidgets. See https://ipywidgets.readthedocs.io/en/stable/user_install.html\n",
      "  from .autonotebook import tqdm as notebook_tqdm\n",
      "Commercial access denied and fallback to check for academic access.\n"
     ]
    }
   ],
   "source": [
    "import numpy as np\n",
    "import gymnasium as gym\n",
    "from stable_baselines3 import PPO, SAC, TD3\n",
    "from stable_baselines3.common.monitor import Monitor\n",
    "from stable_baselines3.common.vec_env import VecFrameStack, DummyVecEnv, SubprocVecEnv\n",
    "\n",
    "import torchdriveenv\n",
    "from torchdriveenv.env_utils import load_waypoint_suite_data, load_rl_training_config, load_replay_data"
   ]
  },
  {
   "cell_type": "code",
   "execution_count": 4,
   "id": "2696bb6b-cc8f-419d-ace1-ddc8d08eabd4",
   "metadata": {},
   "outputs": [
    {
     "name": "stderr",
     "output_type": "stream",
     "text": [
      "/home/kezhang/work/torchdriveenv/.venv/lib/python3.10/site-packages/stable_baselines3/common/buffers.py:241: UserWarning: This system does not have apparently enough memory to store the complete replay buffer 73.74GB > 51.30GB\n",
      "  warnings.warn(\n"
     ]
    }
   ],
   "source": [
    "# model = SAC.load(\"models/BaselineAlgorithm.sac_1712996522/model\")\n",
    "model = SAC.load(\"models/BaselineAlgorithm.sac_1713237907/model\")"
   ]
  },
  {
   "cell_type": "code",
   "execution_count": 5,
   "id": "7cf63bd7-47d5-491e-a3bd-e5e7fec3ff6d",
   "metadata": {},
   "outputs": [],
   "source": [
    "# data = load_waypoint_suite_data(\"data/validation_cases.yml\")\n",
    "data = load_replay_data(\"offline_datasets/replay_data_20240416-1323\")\n",
    "env_config = load_rl_training_config(\"env_configs/rl_training.yml\").env\n",
    "env_config.render_mode = \"video\"\n",
    "env_config.record_episode_data = False\n",
    "env_config.record_replay_data = False"
   ]
  },
  {
   "cell_type": "code",
   "execution_count": 6,
   "id": "5a857105-140c-4acb-9691-756754ea2867",
   "metadata": {},
   "outputs": [],
   "source": [
    "def make_env():\n",
    "    env = gym.make('torchdriveenv-v0', args={'cfg': env_config, 'data': data})\n",
    "    env = Monitor(env)  \n",
    "    return env"
   ]
  },
  {
   "cell_type": "code",
   "execution_count": 7,
   "id": "16d98d4d-66c6-4d5c-ae59-7fe59a22d52d",
   "metadata": {},
   "outputs": [],
   "source": [
    "def main(cfg, model):\n",
    "    env = DummyVecEnv([make_env])\n",
    "    env = VecFrameStack(env, n_stack=3, channels_order=\"first\")\n",
    "    obs = np.expand_dims(env.reset()[0], 0)\n",
    "    states = None\n",
    "    episode_starts = [True]\n",
    "    i = 0\n",
    "\n",
    "    while True:\n",
    "        actions, states = model.predict(\n",
    "         obs,  \n",
    "         state=states,\n",
    "         episode_start=episode_starts,\n",
    "         deterministic=True,\n",
    "        )\n",
    "        obs, reward, done, info = env.step(actions)      \n",
    "#         if done:\n",
    "#             break\n",
    "#         print(reward)\n",
    "        if i > 500:\n",
    "            break\n",
    "        i += 1\n",
    "        \n",
    "    env.close()"
   ]
  },
  {
   "cell_type": "code",
   "execution_count": 8,
   "id": "3f05d639-d287-44ac-8535-0a6054d7bf03",
   "metadata": {},
   "outputs": [
    {
     "data": {
      "text/plain": [
       "EnvConfig(ego_only=False, max_environment_steps=200, use_background_traffic=True, terminated_at_infraction=True, seed=None, simulator=TorchDriveConfig(renderer=RendererConfig(backend='default', render_agent_direction=True, left_handed_coordinates=True, highlight_ego_vehicle=True), single_agent_rendering=False, collision_metric=<CollisionMetric.nograd: 'nograd'>, offroad_threshold=0.5, left_handed_coordinates=True), render_mode='video', video_filename='rendered_video.mp4', video_res=1024, video_fov=500, record_episode_data=False, record_replay_data=False, use_blame=True)"
      ]
     },
     "execution_count": 8,
     "metadata": {},
     "output_type": "execute_result"
    }
   ],
   "source": [
    "env_config"
   ]
  },
  {
   "cell_type": "code",
   "execution_count": 9,
   "id": "7c213132-2db5-47be-956e-f677797e90ba",
   "metadata": {},
   "outputs": [
    {
     "name": "stderr",
     "output_type": "stream",
     "text": [
      "INFO:torchdriveenv.gym_env:seed: 922735939\n",
      "INFO:torchdriveenv.gym_env:    def get_reward(self):\n",
      "        x = self.simulator.get_state()[..., 0]\n",
      "        y = self.simulator.get_state()[..., 1]\n",
      "        psi = self.simulator.get_state()[..., 2]\n",
      "\n",
      "        d = math.dist((x, y), (self.last_x, self.last_y)) if (self.last_x is not None) and (self.last_y is not None) else 0\n",
      "        distance_reward = 1 if d > 0.5 else 0\n",
      "        psi_reward = (1 - math.cos(psi - self.last_psi)) * (-20.0) if (self.last_psi is not None) else 0\n",
      "        if self.check_reach_target():\n",
      "            reach_target_reward = 10\n",
      "            self.reached_waypoint_num += 1\n",
      "        else:\n",
      "            reach_target_reward = 0\n",
      "        r = torch.zeros_like(x)\n",
      "        r += reach_target_reward + distance_reward + psi_reward\n",
      "        return r\n",
      "\n",
      "/home/kezhang/work/torchdriveenv/.venv/lib/python3.10/site-packages/gymnasium/utils/passive_env_checker.py:135: UserWarning: \u001b[33mWARN: The obs returned by the `reset()` method was expecting numpy array dtype to be uint8, actual type: float32\u001b[0m\n",
      "  logger.warn(\n",
      "/home/kezhang/work/torchdriveenv/.venv/lib/python3.10/site-packages/gymnasium/utils/passive_env_checker.py:159: UserWarning: \u001b[33mWARN: The obs returned by the `reset()` method is not within the observation space.\u001b[0m\n",
      "  logger.warn(f\"{pre} is not within the observation space.\")\n",
      "/home/kezhang/work/torchdriveenv/.venv/lib/python3.10/site-packages/gymnasium/utils/passive_env_checker.py:228: UserWarning: \u001b[33mWARN: Expects `terminated` signal to be a boolean, actual type: <class 'torch.Tensor'>\u001b[0m\n",
      "  logger.warn(\n",
      "/home/kezhang/work/torchdriveenv/.venv/lib/python3.10/site-packages/gymnasium/utils/passive_env_checker.py:135: UserWarning: \u001b[33mWARN: The obs returned by the `step()` method was expecting numpy array dtype to be uint8, actual type: float32\u001b[0m\n",
      "  logger.warn(\n",
      "/home/kezhang/work/torchdriveenv/.venv/lib/python3.10/site-packages/gymnasium/utils/passive_env_checker.py:159: UserWarning: \u001b[33mWARN: The obs returned by the `step()` method is not within the observation space.\u001b[0m\n",
      "  logger.warn(f\"{pre} is not within the observation space.\")\n",
      "/home/kezhang/work/torchdriveenv/.venv/lib/python3.10/site-packages/gymnasium/utils/passive_env_checker.py:246: UserWarning: \u001b[33mWARN: The reward returned by `step()` must be a float, int, np.integer or np.floating, actual type: <class 'torch.Tensor'>\u001b[0m\n",
      "  logger.warn(\n"
     ]
    },
    {
     "name": "stdout",
     "output_type": "stream",
     "text": [
      "iai_blame\n",
      "(0, 1)\n",
      "iai_blame\n",
      "(0, 1)\n",
      "iai_blame\n",
      "(0, 1)\n",
      "iai_blame\n",
      "(0, 1)\n",
      "iai_blame\n",
      "(0, 1)\n",
      "iai_blame\n",
      "(0, 1)\n",
      "iai_blame\n",
      "(0, 1)\n",
      "iai_blame\n",
      "(0, 1)\n",
      "iai_blame\n",
      "(0, 1)\n",
      "iai_blame\n",
      "(0, 1)\n",
      "iai_blame\n",
      "(0, 1)\n",
      "iai_blame\n",
      "(0, 1)\n",
      "iai_blame\n",
      "(0, 1)\n",
      "iai_blame\n",
      "(0, 1)\n",
      "iai_blame\n",
      "(0, 1)\n",
      "iai_blame\n",
      "(0, 1)\n",
      "iai_blame\n",
      "(0, 1)\n",
      "iai_blame\n",
      "(0, 1)\n",
      "iai_blame\n",
      "(0, 1)\n",
      "iai_blame\n",
      "(0, 1)\n",
      "iai_blame\n",
      "(0, 1)\n",
      "iai_blame\n",
      "(0, 1)\n",
      "iai_blame\n",
      "(0, 1)\n",
      "iai_blame\n",
      "(0, 1)\n",
      "iai_blame\n",
      "(0, 1)\n",
      "iai_blame\n",
      "(0, 1)\n",
      "iai_blame\n",
      "(0, 1)\n",
      "iai_blame\n",
      "(0, 1)\n",
      "iai_blame\n",
      "(0, 1)\n",
      "iai_blame\n",
      "(0, 1)\n",
      "is_inner.birdview\n"
     ]
    }
   ],
   "source": [
    "main(env_config, model)"
   ]
  },
  {
   "cell_type": "code",
   "execution_count": null,
   "id": "b22b1130-c823-473a-8458-9c076f1c5b03",
   "metadata": {},
   "outputs": [],
   "source": []
  }
 ],
 "metadata": {
  "kernelspec": {
   "display_name": "torchdriveenv",
   "language": "python",
   "name": "torchdriveenv"
  },
  "language_info": {
   "codemirror_mode": {
    "name": "ipython",
    "version": 3
   },
   "file_extension": ".py",
   "mimetype": "text/x-python",
   "name": "python",
   "nbconvert_exporter": "python",
   "pygments_lexer": "ipython3",
   "version": "3.10.12"
  }
 },
 "nbformat": 4,
 "nbformat_minor": 5
}
