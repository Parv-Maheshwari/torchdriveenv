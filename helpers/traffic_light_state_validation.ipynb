{
 "cells": [
  {
   "cell_type": "code",
   "execution_count": 1,
   "id": "9fcd306a-b9fe-42da-8180-06b97ef2c441",
   "metadata": {},
   "outputs": [
    {
     "name": "stderr",
     "output_type": "stream",
     "text": [
      "Commercial access denied and fallback to check for academic access.\n"
     ]
    }
   ],
   "source": [
    "import sys\n",
    "sys.path.insert(0, \"torchdrivesim\")\n",
    "\n",
    "import invertedai as iai\n",
    "from torchdrivesim.traffic_controls import WholeMapTrafficLightController"
   ]
  },
  {
   "cell_type": "code",
   "execution_count": 2,
   "id": "18ecdc76-fee1-4e8e-9122-c54f9e899997",
   "metadata": {},
   "outputs": [
    {
     "name": "stdout",
     "output_type": "stream",
     "text": [
      "carla:Town03 :  3402\n",
      "carla:Town03 :  3407\n",
      "carla:Town03 :  5407\n",
      "carla:Town04 :  4682\n",
      "carla:Town06 :  4098\n",
      "carla:Town06 :  4102\n",
      "carla:Town06 :  5098\n",
      "carla:Town06 :  5102\n",
      "carla:Town06 :  6098\n",
      "carla:Town06 :  6102\n",
      "carla:Town06 :  7098\n",
      "carla:Town06 :  7102\n",
      "carla:Town06 :  8098\n",
      "carla:Town06 :  8102\n"
     ]
    }
   ],
   "source": [
    "# , \"carla:Town03\"\n",
    "location_list = [\"carla:Town01\", \"carla:Town02\", \"carla:Town03\", \"carla:Town04\", \"carla:Town06\", \"carla:Town07\", \"carla:Town10HD\"]\n",
    "for location in location_list:\n",
    "    location_info = iai.location_info(location=location)\n",
    "    controller = WholeMapTrafficLightController(f\"traffic_light_states/{location.split(':')[1]}\")\n",
    "    current_actor_states = controller.get_current_actor_states()\n",
    "    for actor in location_info.static_actors:\n",
    "        if (actor.agent_type == \"traffic-light\") and (str(actor.actor_id) not in current_actor_states):\n",
    "            print(location, ': ', actor.actor_id)"
   ]
  },
  {
   "cell_type": "code",
   "execution_count": null,
   "id": "badfd3d9-0060-4719-8cb0-9215baca85cf",
   "metadata": {},
   "outputs": [],
   "source": []
  }
 ],
 "metadata": {
  "kernelspec": {
   "display_name": "Python 3 (ipykernel)",
   "language": "python",
   "name": "python3"
  },
  "language_info": {
   "codemirror_mode": {
    "name": "ipython",
    "version": 3
   },
   "file_extension": ".py",
   "mimetype": "text/x-python",
   "name": "python",
   "nbconvert_exporter": "python",
   "pygments_lexer": "ipython3",
   "version": "3.8.10"
  }
 },
 "nbformat": 4,
 "nbformat_minor": 5
}
