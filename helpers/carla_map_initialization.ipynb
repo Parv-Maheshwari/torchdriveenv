{
 "cells": [
  {
   "cell_type": "code",
   "execution_count": 1,
   "id": "c639486b-d39d-4107-8c00-aeb7c4346616",
   "metadata": {},
   "outputs": [
    {
     "name": "stderr",
     "output_type": "stream",
     "text": [
      "Commercial access denied and fallback to check for academic access.\n"
     ]
    }
   ],
   "source": [
    "import invertedai as iai\n",
    "import invertedai.api\n",
    "import invertedai.api.config\n",
    "from invertedai import error\n",
    "from invertedai.common import Point\n",
    "import matplotlib.pyplot as plt\n",
    "from matplotlib.patches import Rectangle\n",
    "from matplotlib import animation\n",
    "import numpy as np\n",
    "import csv\n",
    "import pickle\n",
    "import math\n",
    "import torch\n",
    "import logging\n",
    "import random\n",
    "from tqdm.contrib import tmap\n",
    "from itertools import product\n",
    "from invertedai.common import AgentState, StaticMapActor"
   ]
  },
  {
   "cell_type": "code",
   "execution_count": 2,
   "id": "b37e4a1d-60b2-4f24-9954-c975c66d1447",
   "metadata": {},
   "outputs": [],
   "source": [
    "H_SCALE = 10\n",
    "text_x_offset = 0\n",
    "text_y_offset = 0.7\n",
    "text_size = 7\n",
    "TIMEOUT_SECS = 600\n",
    "MAX_RETRIES = 10\n",
    "SLACK = 2\n",
    "INITIALIZE_FOV = 120\n",
    "AGENT_FOV = 35\n",
    "RENDERING_FOV = 1000"
   ]
  },
  {
   "cell_type": "code",
   "execution_count": 3,
   "id": "436d3e87-5734-4d05-a963-171f8b6d8850",
   "metadata": {},
   "outputs": [],
   "source": [
    "def get_centers(map_center, height, width, stride):\n",
    "    def check_valid_center(center):\n",
    "        return ((map_center[0] - width) < center[0] < (map_center[0] + width) and\n",
    "                (map_center[1] - height) < center[1] < (map_center[1] + height))\n",
    "\n",
    "    def get_neighbors(center):\n",
    "        return [(center[0] + (i * stride), center[1] + (j * stride)) for i, j in list(product(*[(-1, 1), ] * 2))]\n",
    "\n",
    "    queue, centers = [map_center], []\n",
    "\n",
    "    while queue:\n",
    "        center = queue.pop(0)\n",
    "        neighbors = filter(check_valid_center, get_neighbors(center))\n",
    "        queue.extend([neighbor for neighbor in neighbors if neighbor not in queue and neighbor not in centers])\n",
    "        if center not in centers and check_valid_center(center):\n",
    "            centers.append(center)\n",
    "    return centers"
   ]
  },
  {
   "cell_type": "code",
   "execution_count": 4,
   "id": "787cf37d-e8c7-4bca-80d9-363bfa3a918e",
   "metadata": {},
   "outputs": [],
   "source": [
    "def world_to_pixel(world_points, map_center, rendering_fov, res=512):\n",
    "    world_points = torch.Tensor(world_points)\n",
    "    map_center = torch.Tensor(map_center)\n",
    "    return torch.round((world_points - map_center) / rendering_fov * res + torch.Tensor([res / 2, res / 2])).int()"
   ]
  },
  {
   "cell_type": "code",
   "execution_count": 5,
   "id": "dde7daa5-7718-4fe6-a579-0af66f717130",
   "metadata": {},
   "outputs": [],
   "source": [
    "def is_black_tile(tile_center, map_center, rendering_fov, birdview_image, initialize_fov=INITIALIZE_FOV):\n",
    "    p0 = world_to_pixel(torch.Tensor(tile_center) - initialize_fov / 2, map_center, rendering_fov)\n",
    "    p1 = world_to_pixel(torch.Tensor(tile_center) + initialize_fov / 2, map_center, rendering_fov)\n",
    "    return birdview_image[p0[0]:p1[0], p0[1]:p1[1], :].mean() < 1"
   ]
  },
  {
   "cell_type": "code",
   "execution_count": 6,
   "id": "94487918-dd41-4cd5-a381-8b3540a36880",
   "metadata": {},
   "outputs": [],
   "source": [
    "def area_initialization(location, agent_density, map_center, rendering_fov, birdview_image, traffic_lights_states=None, random_seed=None, \n",
    "                        width=100, height=100, stride=100, initialize_fov=INITIALIZE_FOV, get_birdview=False,\n",
    "                        birdview_path=None):\n",
    "    def inside_fov(center: Point, initialize_fov: float, point: Point) -> bool:\n",
    "        return ((center.x - (initialize_fov / 2) < point.x < center.x + (initialize_fov / 2)) and\n",
    "                (center.y - (initialize_fov / 2) < point.y < center.y + (initialize_fov / 2)))\n",
    "\n",
    "    agent_states = []\n",
    "    agent_attributes = []\n",
    "    agent_rs = []\n",
    "    first = True\n",
    "    centers = get_centers(map_center, height, width, stride)\n",
    "    # print(\"centers\")\n",
    "    # print(centers)\n",
    "    for area_center in tmap(Point.fromlist, centers, total=len(centers),\n",
    "                            desc=f\"Initializing {location.split(':')[1]}\"):\n",
    "\n",
    "        conditional_agent = list(filter(lambda x: inside_fov(\n",
    "            center=area_center, initialize_fov=initialize_fov, point=x[0].center), zip(agent_states, agent_attributes,\n",
    "                                                                                       agent_rs)))\n",
    "        remaining_agents = list(filter(lambda x: not inside_fov(\n",
    "            center=area_center, initialize_fov=initialize_fov, point=x[0].center), zip(agent_states, agent_attributes,\n",
    "                                                                                       agent_rs)))\n",
    "\n",
    "        con_agent_state = [x[0] for x in conditional_agent]\n",
    "        con_agent_attrs = [x[1] for x in conditional_agent]\n",
    "        con_agent_rs = [x[2] for x in conditional_agent]\n",
    "        remaining_agents_states = [x[0] for x in remaining_agents]\n",
    "        remaining_agents_attrs = [x[1] for x in remaining_agents]\n",
    "        remaining_agents_rs = [x[2] for x in remaining_agents]\n",
    "\n",
    "        if len(con_agent_state) > agent_density:\n",
    "            continue\n",
    "\n",
    "        for _ in range(1):\n",
    "            if is_black_tile((area_center.x, area_center.y), map_center, rendering_fov, birdview_image, initialize_fov=initialize_fov):\n",
    "                print(\"black_tile\")\n",
    "                print(area_center)\n",
    "                continue\n",
    "            try:\n",
    "                # Initialize simulation with an API cal\n",
    "                response = iai.initialize(\n",
    "                    location=location,\n",
    "                    states_history=[con_agent_state] if len(con_agent_state) > 0 else None,\n",
    "                    agent_attributes=con_agent_attrs if len(con_agent_attrs) > 0 else None,\n",
    "                    agent_count=agent_density,\n",
    "                    get_infractions=False,\n",
    "                    traffic_light_state_history=traffic_lights_states,\n",
    "                    location_of_interest=(area_center.x, area_center.y),\n",
    "                    random_seed=random_seed,\n",
    "                    get_birdview=get_birdview,\n",
    "                )\n",
    "                break\n",
    "            except BaseException as e:\n",
    "                print(e)\n",
    "                response = iai.initialize(\n",
    "                    location=location,\n",
    "                    states_history=[con_agent_state] if len(con_agent_state) > 0 else None,\n",
    "                    agent_attributes=con_agent_attrs if len(con_agent_attrs) > 0 else None,\n",
    "                    agent_count=1,\n",
    "                    get_infractions=False,\n",
    "                    traffic_light_state_history=traffic_lights_states,\n",
    "                    location_of_interest=(area_center.x, area_center.y),\n",
    "                    random_seed=random_seed,\n",
    "                    get_birdview=get_birdview,\n",
    "                )\n",
    "                print(area_center)\n",
    "        else:\n",
    "            continue\n",
    "        # Filter out agents that are not inside the ROI to avoid collision with other agents not passed as conditional\n",
    "        # SLACK is for removing the agents that are very close to the boundary and\n",
    "        # they may collide agents not filtered as conditional\n",
    "        valid_agents = list(filter(lambda x: inside_fov(\n",
    "            center=area_center, initialize_fov=initialize_fov - SLACK, point=x[0].center),\n",
    "            zip(response.agent_states, response.agent_attributes, response.recurrent_states)))\n",
    "\n",
    "        valid_agent_state = [x[0] for x in valid_agents]\n",
    "        valid_agent_attrs = [x[1] for x in valid_agents]\n",
    "        valid_agent_rs = [x[2] for x in valid_agents]\n",
    "\n",
    "        agent_states = remaining_agents_states + valid_agent_state\n",
    "        agent_attributes = remaining_agents_attrs + valid_agent_attrs\n",
    "        agent_rs = remaining_agents_rs + valid_agent_rs\n",
    "\n",
    "        if get_birdview:\n",
    "            file_path = f\"{birdview_path}-{(area_center.x, area_center.y)}.jpg\"\n",
    "            response.birdview.decode_and_save(file_path)\n",
    "\n",
    "    response.recurrent_states=agent_rs\n",
    "    response.agent_states=agent_states\n",
    "    response.agent_attributes = agent_attributes\n",
    "    return response"
   ]
  },
  {
   "cell_type": "code",
   "execution_count": 7,
   "id": "563bda8d-fb9a-4ed9-a856-143d91a3b37a",
   "metadata": {},
   "outputs": [],
   "source": [
    "def generate_background_traffic(location, agent_density, random_seed):\n",
    "    location_info = iai.location_info(location=location,rendering_fov=RENDERING_FOV)\n",
    "    rendered_static_map = location_info.birdview_image.decode()\n",
    "    response = area_initialization(location=location, \n",
    "                                   agent_density=agent_density, \n",
    "                                   map_center=(location_info.map_center.x, location_info.map_center.y), \n",
    "                                   rendering_fov=RENDERING_FOV, \n",
    "                                   birdview_image=rendered_static_map, \n",
    "                                   traffic_lights_states=None, random_seed=random_seed, \n",
    "                                   width=location_info.map_fov / 2, height=location_info.map_fov / 2, stride=100, \n",
    "                                   initialize_fov=INITIALIZE_FOV, get_birdview=False,\n",
    "                                   birdview_path=None)\n",
    "    \n",
    "    background_traffic = {\"location\": location, \n",
    "                        \"agent_density\": agent_density,\n",
    "                        \"random_seed\": random_seed,\n",
    "                        \"agent_states\": response.agent_states,\n",
    "                        \"agent_attributes\": response.agent_attributes,\n",
    "                        \"recurrent_states\": response.recurrent_states}\n",
    "    \n",
    "    file_path = f\"background_traffic/{location.split(':')[-1]}_{agent_density}_{random_seed}.pkl\"\n",
    "\n",
    "    with open(file_path, \"wb\") as f:\n",
    "        pickle.dump(background_traffic, f)"
   ]
  },
  {
   "cell_type": "code",
   "execution_count": 8,
   "id": "7888768f-f58b-43ba-bae3-b319d9f5bb37",
   "metadata": {},
   "outputs": [],
   "source": [
    "# \"carla:Town04\", \"carla:Town06\", \n",
    "location_list = [\"carla:Town01\", \"carla:Town02\", \"carla:Town03\", \"carla:Town07\", \"carla:Town10HD\"]\n",
    "tile_num = {\"carla:Town01\": 5, \"carla:Town02\": 5, \"carla:Town03\": 13, \"carla:Town07\": 5, \"carla:Town10HD\": 5}\n",
    "agent_density_list = [5, 10, 15, 18]"
   ]
  },
  {
   "cell_type": "code",
   "execution_count": 9,
   "id": "566d6635-188b-447f-b7cf-1c6db700b5fc",
   "metadata": {},
   "outputs": [
    {
     "data": {
      "application/vnd.jupyter.widget-view+json": {
       "model_id": "a9a1a2718d1c48958db3055e02d9bef3",
       "version_major": 2,
       "version_minor": 0
      },
      "text/plain": [
       "Initializing Town01:   0%|          | 0/5 [00:00<?, ?it/s]"
      ]
     },
     "metadata": {},
     "output_type": "display_data"
    },
    {
     "data": {
      "application/vnd.jupyter.widget-view+json": {
       "model_id": "250798a10a94400da50531b6fe1ab41d",
       "version_major": 2,
       "version_minor": 0
      },
      "text/plain": [
       "Initializing Town01:   0%|          | 0/5 [00:00<?, ?it/s]"
      ]
     },
     "metadata": {},
     "output_type": "display_data"
    },
    {
     "data": {
      "application/vnd.jupyter.widget-view+json": {
       "model_id": "91e3c1cec67e45e98c8f179d0c872dbd",
       "version_major": 2,
       "version_minor": 0
      },
      "text/plain": [
       "Initializing Town01:   0%|          | 0/5 [00:00<?, ?it/s]"
      ]
     },
     "metadata": {},
     "output_type": "display_data"
    },
    {
     "data": {
      "application/vnd.jupyter.widget-view+json": {
       "model_id": "d50cd3b7525e464c81958016a742c6ee",
       "version_major": 2,
       "version_minor": 0
      },
      "text/plain": [
       "Initializing Town01:   0%|          | 0/5 [00:00<?, ?it/s]"
      ]
     },
     "metadata": {},
     "output_type": "display_data"
    },
    {
     "data": {
      "application/vnd.jupyter.widget-view+json": {
       "model_id": "dbb85b44d37142b2aa4d0706e6667483",
       "version_major": 2,
       "version_minor": 0
      },
      "text/plain": [
       "Initializing Town01:   0%|          | 0/5 [00:00<?, ?it/s]"
      ]
     },
     "metadata": {},
     "output_type": "display_data"
    },
    {
     "data": {
      "application/vnd.jupyter.widget-view+json": {
       "model_id": "919fa5326bfa4cb087ed70cbb3e9b2ba",
       "version_major": 2,
       "version_minor": 0
      },
      "text/plain": [
       "Initializing Town01:   0%|          | 0/5 [00:00<?, ?it/s]"
      ]
     },
     "metadata": {},
     "output_type": "display_data"
    },
    {
     "data": {
      "application/vnd.jupyter.widget-view+json": {
       "model_id": "0986bcd2b65449509d7d9f3035aca343",
       "version_major": 2,
       "version_minor": 0
      },
      "text/plain": [
       "Initializing Town01:   0%|          | 0/5 [00:00<?, ?it/s]"
      ]
     },
     "metadata": {},
     "output_type": "display_data"
    },
    {
     "data": {
      "application/vnd.jupyter.widget-view+json": {
       "model_id": "9822584a584643579caa9615994a6cc2",
       "version_major": 2,
       "version_minor": 0
      },
      "text/plain": [
       "Initializing Town01:   0%|          | 0/5 [00:00<?, ?it/s]"
      ]
     },
     "metadata": {},
     "output_type": "display_data"
    },
    {
     "data": {
      "application/vnd.jupyter.widget-view+json": {
       "model_id": "b070c57d24994421bf1c50a66cbed481",
       "version_major": 2,
       "version_minor": 0
      },
      "text/plain": [
       "Initializing Town01:   0%|          | 0/5 [00:00<?, ?it/s]"
      ]
     },
     "metadata": {},
     "output_type": "display_data"
    },
    {
     "data": {
      "application/vnd.jupyter.widget-view+json": {
       "model_id": "7df3249e63a64ca89775713c30416895",
       "version_major": 2,
       "version_minor": 0
      },
      "text/plain": [
       "Initializing Town01:   0%|          | 0/5 [00:00<?, ?it/s]"
      ]
     },
     "metadata": {},
     "output_type": "display_data"
    },
    {
     "data": {
      "application/vnd.jupyter.widget-view+json": {
       "model_id": "a503fd6d43c6484dbcd7450ca77e2c03",
       "version_major": 2,
       "version_minor": 0
      },
      "text/plain": [
       "Initializing Town02:   0%|          | 0/5 [00:00<?, ?it/s]"
      ]
     },
     "metadata": {},
     "output_type": "display_data"
    },
    {
     "data": {
      "application/vnd.jupyter.widget-view+json": {
       "model_id": "bc202bce7eb045dab8fa268c323e6810",
       "version_major": 2,
       "version_minor": 0
      },
      "text/plain": [
       "Initializing Town02:   0%|          | 0/5 [00:00<?, ?it/s]"
      ]
     },
     "metadata": {},
     "output_type": "display_data"
    },
    {
     "data": {
      "application/vnd.jupyter.widget-view+json": {
       "model_id": "67dd67c2769d4ec99ded2d1c20e2d3fa",
       "version_major": 2,
       "version_minor": 0
      },
      "text/plain": [
       "Initializing Town02:   0%|          | 0/5 [00:00<?, ?it/s]"
      ]
     },
     "metadata": {},
     "output_type": "display_data"
    },
    {
     "data": {
      "application/vnd.jupyter.widget-view+json": {
       "model_id": "3f2194cec5ff43c8b5e83a8d479f670c",
       "version_major": 2,
       "version_minor": 0
      },
      "text/plain": [
       "Initializing Town02:   0%|          | 0/5 [00:00<?, ?it/s]"
      ]
     },
     "metadata": {},
     "output_type": "display_data"
    },
    {
     "data": {
      "application/vnd.jupyter.widget-view+json": {
       "model_id": "89a3e640410844898c0bb9b1fe8d0c6b",
       "version_major": 2,
       "version_minor": 0
      },
      "text/plain": [
       "Initializing Town02:   0%|          | 0/5 [00:00<?, ?it/s]"
      ]
     },
     "metadata": {},
     "output_type": "display_data"
    },
    {
     "data": {
      "application/vnd.jupyter.widget-view+json": {
       "model_id": "a29e779f3cb44bcf8685e857eae86380",
       "version_major": 2,
       "version_minor": 0
      },
      "text/plain": [
       "Initializing Town02:   0%|          | 0/5 [00:00<?, ?it/s]"
      ]
     },
     "metadata": {},
     "output_type": "display_data"
    },
    {
     "data": {
      "application/vnd.jupyter.widget-view+json": {
       "model_id": "6d4258b75f224b3ea5a7291695152b94",
       "version_major": 2,
       "version_minor": 0
      },
      "text/plain": [
       "Initializing Town02:   0%|          | 0/5 [00:00<?, ?it/s]"
      ]
     },
     "metadata": {},
     "output_type": "display_data"
    },
    {
     "data": {
      "application/vnd.jupyter.widget-view+json": {
       "model_id": "44f34c97195a4cb0bd3f37c4424bf20f",
       "version_major": 2,
       "version_minor": 0
      },
      "text/plain": [
       "Initializing Town02:   0%|          | 0/5 [00:00<?, ?it/s]"
      ]
     },
     "metadata": {},
     "output_type": "display_data"
    },
    {
     "data": {
      "application/vnd.jupyter.widget-view+json": {
       "model_id": "4c94bfd5c7ec465a92d44ab11e0d2233",
       "version_major": 2,
       "version_minor": 0
      },
      "text/plain": [
       "Initializing Town02:   0%|          | 0/5 [00:00<?, ?it/s]"
      ]
     },
     "metadata": {},
     "output_type": "display_data"
    },
    {
     "data": {
      "application/vnd.jupyter.widget-view+json": {
       "model_id": "2a533af40b8c46eca2a1d24bf5d9ac8e",
       "version_major": 2,
       "version_minor": 0
      },
      "text/plain": [
       "Initializing Town02:   0%|          | 0/5 [00:00<?, ?it/s]"
      ]
     },
     "metadata": {},
     "output_type": "display_data"
    },
    {
     "data": {
      "application/vnd.jupyter.widget-view+json": {
       "model_id": "91ae70c19b414e9d94ea7b1e05b449c2",
       "version_major": 2,
       "version_minor": 0
      },
      "text/plain": [
       "Initializing Town03:   0%|          | 0/13 [00:00<?, ?it/s]"
      ]
     },
     "metadata": {},
     "output_type": "display_data"
    },
    {
     "name": "stdout",
     "output_type": "stream",
     "text": [
      "black_tile\n",
      "x=-150.03385162353516 y=199.17535400390625\n",
      "black_tile\n",
      "x=249.96614837646484 y=199.17535400390625\n"
     ]
    },
    {
     "data": {
      "application/vnd.jupyter.widget-view+json": {
       "model_id": "870642e13afd4c7c8f573860701a88f0",
       "version_major": 2,
       "version_minor": 0
      },
      "text/plain": [
       "Initializing Town03:   0%|          | 0/13 [00:00<?, ?it/s]"
      ]
     },
     "metadata": {},
     "output_type": "display_data"
    },
    {
     "name": "stdout",
     "output_type": "stream",
     "text": [
      "black_tile\n",
      "x=-150.03385162353516 y=199.17535400390625\n",
      "black_tile\n",
      "x=249.96614837646484 y=199.17535400390625\n"
     ]
    },
    {
     "data": {
      "application/vnd.jupyter.widget-view+json": {
       "model_id": "1495d8dfd0734da2b4091f37b4ddd246",
       "version_major": 2,
       "version_minor": 0
      },
      "text/plain": [
       "Initializing Town03:   0%|          | 0/13 [00:00<?, ?it/s]"
      ]
     },
     "metadata": {},
     "output_type": "display_data"
    },
    {
     "name": "stdout",
     "output_type": "stream",
     "text": [
      "{\"message\":\"Initialize failed to sample for agents with provided information. Please try again or adjust the parameters.\"}\n",
      "x=-150.03385162353516 y=-200.82464599609375\n",
      "black_tile\n",
      "x=-150.03385162353516 y=199.17535400390625\n",
      "black_tile\n",
      "x=249.96614837646484 y=199.17535400390625\n"
     ]
    },
    {
     "data": {
      "application/vnd.jupyter.widget-view+json": {
       "model_id": "e8135d2874e04082a92acbe099d205be",
       "version_major": 2,
       "version_minor": 0
      },
      "text/plain": [
       "Initializing Town03:   0%|          | 0/13 [00:00<?, ?it/s]"
      ]
     },
     "metadata": {},
     "output_type": "display_data"
    },
    {
     "name": "stdout",
     "output_type": "stream",
     "text": [
      "black_tile\n",
      "x=-150.03385162353516 y=199.17535400390625\n",
      "black_tile\n",
      "x=249.96614837646484 y=199.17535400390625\n"
     ]
    },
    {
     "data": {
      "application/vnd.jupyter.widget-view+json": {
       "model_id": "2cfa29bd2e984d70b30a3c51a5144726",
       "version_major": 2,
       "version_minor": 0
      },
      "text/plain": [
       "Initializing Town03:   0%|          | 0/13 [00:00<?, ?it/s]"
      ]
     },
     "metadata": {},
     "output_type": "display_data"
    },
    {
     "name": "stdout",
     "output_type": "stream",
     "text": [
      "black_tile\n",
      "x=-150.03385162353516 y=199.17535400390625\n",
      "black_tile\n",
      "x=249.96614837646484 y=199.17535400390625\n"
     ]
    },
    {
     "data": {
      "application/vnd.jupyter.widget-view+json": {
       "model_id": "c8f6f4d32c65489595a24b9f1527ca8f",
       "version_major": 2,
       "version_minor": 0
      },
      "text/plain": [
       "Initializing Town03:   0%|          | 0/13 [00:00<?, ?it/s]"
      ]
     },
     "metadata": {},
     "output_type": "display_data"
    },
    {
     "name": "stdout",
     "output_type": "stream",
     "text": [
      "{\"message\":\"Initialize failed to sample for agents with provided information. Please try again or adjust the parameters.\"}\n",
      "x=-150.03385162353516 y=-200.82464599609375\n",
      "black_tile\n",
      "x=-150.03385162353516 y=199.17535400390625\n",
      "black_tile\n",
      "x=249.96614837646484 y=199.17535400390625\n"
     ]
    },
    {
     "data": {
      "application/vnd.jupyter.widget-view+json": {
       "model_id": "5e83abe9b9104a2c83f4ff7ca72da2c2",
       "version_major": 2,
       "version_minor": 0
      },
      "text/plain": [
       "Initializing Town03:   0%|          | 0/13 [00:00<?, ?it/s]"
      ]
     },
     "metadata": {},
     "output_type": "display_data"
    },
    {
     "name": "stdout",
     "output_type": "stream",
     "text": [
      "black_tile\n",
      "x=-150.03385162353516 y=199.17535400390625\n",
      "black_tile\n",
      "x=249.96614837646484 y=199.17535400390625\n"
     ]
    },
    {
     "data": {
      "application/vnd.jupyter.widget-view+json": {
       "model_id": "d0af88684a4b463c86c10ce3696b6d63",
       "version_major": 2,
       "version_minor": 0
      },
      "text/plain": [
       "Initializing Town03:   0%|          | 0/13 [00:00<?, ?it/s]"
      ]
     },
     "metadata": {},
     "output_type": "display_data"
    },
    {
     "name": "stdout",
     "output_type": "stream",
     "text": [
      "black_tile\n",
      "x=-150.03385162353516 y=199.17535400390625\n",
      "black_tile\n",
      "x=249.96614837646484 y=199.17535400390625\n"
     ]
    },
    {
     "data": {
      "application/vnd.jupyter.widget-view+json": {
       "model_id": "0667256a4b714a9dbe27c6decafc17cd",
       "version_major": 2,
       "version_minor": 0
      },
      "text/plain": [
       "Initializing Town03:   0%|          | 0/13 [00:00<?, ?it/s]"
      ]
     },
     "metadata": {},
     "output_type": "display_data"
    },
    {
     "name": "stdout",
     "output_type": "stream",
     "text": [
      "{\"message\":\"Initialize failed to sample for agents with provided information. Please try again or adjust the parameters.\"}\n",
      "x=-150.03385162353516 y=-200.82464599609375\n",
      "black_tile\n",
      "x=-150.03385162353516 y=199.17535400390625\n",
      "black_tile\n",
      "x=249.96614837646484 y=199.17535400390625\n"
     ]
    },
    {
     "data": {
      "application/vnd.jupyter.widget-view+json": {
       "model_id": "a161266fe9da4d499c6a80a9fc950071",
       "version_major": 2,
       "version_minor": 0
      },
      "text/plain": [
       "Initializing Town03:   0%|          | 0/13 [00:00<?, ?it/s]"
      ]
     },
     "metadata": {},
     "output_type": "display_data"
    },
    {
     "name": "stdout",
     "output_type": "stream",
     "text": [
      "black_tile\n",
      "x=-150.03385162353516 y=199.17535400390625\n",
      "black_tile\n",
      "x=249.96614837646484 y=199.17535400390625\n"
     ]
    },
    {
     "data": {
      "application/vnd.jupyter.widget-view+json": {
       "model_id": "289c2d6c601e444b90bc114f50e444c1",
       "version_major": 2,
       "version_minor": 0
      },
      "text/plain": [
       "Initializing Town07:   0%|          | 0/5 [00:00<?, ?it/s]"
      ]
     },
     "metadata": {},
     "output_type": "display_data"
    },
    {
     "data": {
      "application/vnd.jupyter.widget-view+json": {
       "model_id": "260ae16fd8bd4951aeff2bfbc1da467b",
       "version_major": 2,
       "version_minor": 0
      },
      "text/plain": [
       "Initializing Town07:   0%|          | 0/5 [00:00<?, ?it/s]"
      ]
     },
     "metadata": {},
     "output_type": "display_data"
    },
    {
     "data": {
      "application/vnd.jupyter.widget-view+json": {
       "model_id": "1f104fdd8b744dfa902019c5ed3df848",
       "version_major": 2,
       "version_minor": 0
      },
      "text/plain": [
       "Initializing Town07:   0%|          | 0/5 [00:00<?, ?it/s]"
      ]
     },
     "metadata": {},
     "output_type": "display_data"
    },
    {
     "data": {
      "application/vnd.jupyter.widget-view+json": {
       "model_id": "b191be19e9fc430caa7c8c0d6176eb1b",
       "version_major": 2,
       "version_minor": 0
      },
      "text/plain": [
       "Initializing Town07:   0%|          | 0/5 [00:00<?, ?it/s]"
      ]
     },
     "metadata": {},
     "output_type": "display_data"
    },
    {
     "data": {
      "application/vnd.jupyter.widget-view+json": {
       "model_id": "057ef3bb5bd04d109f74521a0706dcaa",
       "version_major": 2,
       "version_minor": 0
      },
      "text/plain": [
       "Initializing Town07:   0%|          | 0/5 [00:00<?, ?it/s]"
      ]
     },
     "metadata": {},
     "output_type": "display_data"
    },
    {
     "data": {
      "application/vnd.jupyter.widget-view+json": {
       "model_id": "8d3a1d94d44741629dfb9fb999f3391a",
       "version_major": 2,
       "version_minor": 0
      },
      "text/plain": [
       "Initializing Town07:   0%|          | 0/5 [00:00<?, ?it/s]"
      ]
     },
     "metadata": {},
     "output_type": "display_data"
    },
    {
     "data": {
      "application/vnd.jupyter.widget-view+json": {
       "model_id": "1f409d1da32843419bbbcd41f7895ac7",
       "version_major": 2,
       "version_minor": 0
      },
      "text/plain": [
       "Initializing Town07:   0%|          | 0/5 [00:00<?, ?it/s]"
      ]
     },
     "metadata": {},
     "output_type": "display_data"
    },
    {
     "data": {
      "application/vnd.jupyter.widget-view+json": {
       "model_id": "dec335ff91514cffa795144ed738ec8b",
       "version_major": 2,
       "version_minor": 0
      },
      "text/plain": [
       "Initializing Town07:   0%|          | 0/5 [00:00<?, ?it/s]"
      ]
     },
     "metadata": {},
     "output_type": "display_data"
    },
    {
     "data": {
      "application/vnd.jupyter.widget-view+json": {
       "model_id": "5ba00cf6e6034a19bf8d3e9b44125aa3",
       "version_major": 2,
       "version_minor": 0
      },
      "text/plain": [
       "Initializing Town07:   0%|          | 0/5 [00:00<?, ?it/s]"
      ]
     },
     "metadata": {},
     "output_type": "display_data"
    },
    {
     "data": {
      "application/vnd.jupyter.widget-view+json": {
       "model_id": "6cbd81fc4bc74ce6b49e8cd80bebda55",
       "version_major": 2,
       "version_minor": 0
      },
      "text/plain": [
       "Initializing Town07:   0%|          | 0/5 [00:00<?, ?it/s]"
      ]
     },
     "metadata": {},
     "output_type": "display_data"
    },
    {
     "data": {
      "application/vnd.jupyter.widget-view+json": {
       "model_id": "6b579b704c104fad9b98392364cc1e04",
       "version_major": 2,
       "version_minor": 0
      },
      "text/plain": [
       "Initializing Town10HD:   0%|          | 0/5 [00:00<?, ?it/s]"
      ]
     },
     "metadata": {},
     "output_type": "display_data"
    },
    {
     "data": {
      "application/vnd.jupyter.widget-view+json": {
       "model_id": "3602c53e990543a39ad03ce28d845fa1",
       "version_major": 2,
       "version_minor": 0
      },
      "text/plain": [
       "Initializing Town10HD:   0%|          | 0/5 [00:00<?, ?it/s]"
      ]
     },
     "metadata": {},
     "output_type": "display_data"
    },
    {
     "data": {
      "application/vnd.jupyter.widget-view+json": {
       "model_id": "ba9ca7ea020945419285c21680ed5b71",
       "version_major": 2,
       "version_minor": 0
      },
      "text/plain": [
       "Initializing Town10HD:   0%|          | 0/5 [00:00<?, ?it/s]"
      ]
     },
     "metadata": {},
     "output_type": "display_data"
    },
    {
     "data": {
      "application/vnd.jupyter.widget-view+json": {
       "model_id": "e48a4548d76b4cb5a1fc6d41fd3f1cd1",
       "version_major": 2,
       "version_minor": 0
      },
      "text/plain": [
       "Initializing Town10HD:   0%|          | 0/5 [00:00<?, ?it/s]"
      ]
     },
     "metadata": {},
     "output_type": "display_data"
    },
    {
     "data": {
      "application/vnd.jupyter.widget-view+json": {
       "model_id": "52a0a503788745e2b4f0cb88fa134d38",
       "version_major": 2,
       "version_minor": 0
      },
      "text/plain": [
       "Initializing Town10HD:   0%|          | 0/5 [00:00<?, ?it/s]"
      ]
     },
     "metadata": {},
     "output_type": "display_data"
    },
    {
     "data": {
      "application/vnd.jupyter.widget-view+json": {
       "model_id": "dde7e08e402a464aa5d7289b2f33bbd2",
       "version_major": 2,
       "version_minor": 0
      },
      "text/plain": [
       "Initializing Town10HD:   0%|          | 0/5 [00:00<?, ?it/s]"
      ]
     },
     "metadata": {},
     "output_type": "display_data"
    },
    {
     "data": {
      "application/vnd.jupyter.widget-view+json": {
       "model_id": "64b994b256ab40618951ca47327fba63",
       "version_major": 2,
       "version_minor": 0
      },
      "text/plain": [
       "Initializing Town10HD:   0%|          | 0/5 [00:00<?, ?it/s]"
      ]
     },
     "metadata": {},
     "output_type": "display_data"
    },
    {
     "data": {
      "application/vnd.jupyter.widget-view+json": {
       "model_id": "793920d8aece49d18696f393fb4a426c",
       "version_major": 2,
       "version_minor": 0
      },
      "text/plain": [
       "Initializing Town10HD:   0%|          | 0/5 [00:00<?, ?it/s]"
      ]
     },
     "metadata": {},
     "output_type": "display_data"
    },
    {
     "data": {
      "application/vnd.jupyter.widget-view+json": {
       "model_id": "c43bf884cc894174b43fb0fa656f24eb",
       "version_major": 2,
       "version_minor": 0
      },
      "text/plain": [
       "Initializing Town10HD:   0%|          | 0/5 [00:00<?, ?it/s]"
      ]
     },
     "metadata": {},
     "output_type": "display_data"
    },
    {
     "data": {
      "application/vnd.jupyter.widget-view+json": {
       "model_id": "db1e0f203d134189987a92919912f34a",
       "version_major": 2,
       "version_minor": 0
      },
      "text/plain": [
       "Initializing Town10HD:   0%|          | 0/5 [00:00<?, ?it/s]"
      ]
     },
     "metadata": {},
     "output_type": "display_data"
    }
   ],
   "source": [
    "for location in location_list:\n",
    "    for i in range(10):\n",
    "        while True:\n",
    "            agent_density = random.choice(agent_density_list)\n",
    "            if agent_density * tile_num[location] <= 100:\n",
    "                break\n",
    "        random_seed = random.randint(0, 1000)\n",
    "        # print(random_seed)\n",
    "        generate_background_traffic(location, agent_density, random_seed)"
   ]
  },
  {
   "cell_type": "code",
   "execution_count": 10,
   "id": "96421cb2-4aa9-4c45-894f-790a990ab7f6",
   "metadata": {},
   "outputs": [],
   "source": [
    "# def drive_traffic(location, agent_density, random_seed):\n",
    "#     location_info = iai.location_info(location=location,rendering_fov=RENDERING_FOV)\n",
    "#     rendered_static_map = location_info.birdview_image.decode()\n",
    "#     response = area_initialization(location=location, \n",
    "#                                    agent_density=agent_density, \n",
    "#                                    map_center=(location_info.map_center.x, location_info.map_center.y), \n",
    "#                                    rendering_fov=RENDERING_FOV, \n",
    "#                                    birdview_image=rendered_static_map, \n",
    "#                                    traffic_lights_states=None, random_seed=random_seed, \n",
    "#                                    width=location_info.map_fov / 2, height=location_info.map_fov / 2, stride=100, \n",
    "#                                    initialize_fov=INITIALIZE_FOV, get_birdview=False,\n",
    "#                                    birdview_path=None)\n",
    "\n",
    "#     ego_index = random.randint(0, len(response.agent_states) - 1)\n",
    "#     waypoints = [(response.agent_states[ego_index].center.x, response.agent_states[ego_index].center.y)]\n",
    "#     last_x = None\n",
    "#     last_y = None\n",
    "#     for i in range(200):\n",
    "#         response = iai.drive(\n",
    "#                 location=location,\n",
    "#                 agent_attributes=response.agent_attributes,\n",
    "#                 agent_states=response.agent_states,\n",
    "#                 recurrent_states=response.recurrent_states\n",
    "#         )\n",
    "#         x = response.agent_states[ego_index].center.x\n",
    "#         y = response.agent_states[ego_index].center.y\n",
    "#         if (math.dist((x, y), waypoints[-1]) >= 32) and (last_x is not None):\n",
    "#             waypoints.append((last_x, last_y))\n",
    "#         last_x = x\n",
    "#         last_y = y\n",
    "#     print(waypoints)"
   ]
  },
  {
   "cell_type": "code",
   "execution_count": 11,
   "id": "1f2457cd-1c53-4fde-8221-b6976c43af22",
   "metadata": {},
   "outputs": [],
   "source": [
    "# location = random.choice()\n",
    "# agent_density = random.choice(agent_density_list)\n",
    "# random_seed = random.randint(0, 1000)\n",
    "\n",
    "# drive_traffic(location, agent_density, random_seed)"
   ]
  },
  {
   "cell_type": "code",
   "execution_count": null,
   "id": "37243f82-4dc0-477d-92b0-aebb105b5483",
   "metadata": {},
   "outputs": [],
   "source": []
  }
 ],
 "metadata": {
  "kernelspec": {
   "display_name": "Python 3 (ipykernel)",
   "language": "python",
   "name": "python3"
  },
  "language_info": {
   "codemirror_mode": {
    "name": "ipython",
    "version": 3
   },
   "file_extension": ".py",
   "mimetype": "text/x-python",
   "name": "python",
   "nbconvert_exporter": "python",
   "pygments_lexer": "ipython3",
   "version": "3.8.10"
  }
 },
 "nbformat": 4,
 "nbformat_minor": 5
}
